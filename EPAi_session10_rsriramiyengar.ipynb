{
  "nbformat": 4,
  "nbformat_minor": 0,
  "metadata": {
    "colab": {
      "name": "EPAi-session10-rsriramiyengar.ipynb",
      "provenance": [],
      "collapsed_sections": []
    },
    "kernelspec": {
      "name": "python3",
      "display_name": "Python 3"
    }
  },
  "cells": [
    {
      "cell_type": "markdown",
      "metadata": {
        "id": "cwLSTiEN0_LM"
      },
      "source": [
        "**Assignment for Session 10 - Tuples & Named Tuples and Modules**"
      ]
    },
    {
      "cell_type": "code",
      "metadata": {
        "id": "Y3sj179w06Ex",
        "outputId": "53014146-00e8-4218-af89-0c853dc8d3d8",
        "colab": {
          "base_uri": "https://localhost:8080/",
          "height": 87
        }
      },
      "source": [
        "!pip install Faker\n",
        "from collections import namedtuple\n",
        "from faker import Faker\n",
        "import datetime\n",
        "from datetime import date \n",
        "from datetime import time \n",
        "import operator \n",
        "fake = Faker()\n",
        "from decimal import Decimal\n",
        "from decimal import getcontext\n",
        "import decimal\n",
        "import contextlib \n",
        "import time\n",
        "from collections import Counter\n",
        "import math\n",
        "from math import isclose\n",
        "\n",
        "import random\n",
        "from random  import uniform\n",
        "from random import randint\n",
        "from prettytable import PrettyTable\n",
        "\n",
        "\n"
      ],
      "execution_count": 26,
      "outputs": [
        {
          "output_type": "stream",
          "text": [
            "Requirement already satisfied: Faker in /usr/local/lib/python3.6/dist-packages (4.1.3)\n",
            "Requirement already satisfied: text-unidecode==1.3 in /usr/local/lib/python3.6/dist-packages (from Faker) (1.3)\n",
            "Requirement already satisfied: python-dateutil>=2.4 in /usr/local/lib/python3.6/dist-packages (from Faker) (2.8.1)\n",
            "Requirement already satisfied: six>=1.5 in /usr/local/lib/python3.6/dist-packages (from python-dateutil>=2.4->Faker) (1.15.0)\n"
          ],
          "name": "stdout"
        }
      ]
    },
    {
      "cell_type": "code",
      "metadata": {
        "id": "LMe5SG061Pky"
      },
      "source": [
        "def calculateage(birthDate: \"date of birthof person\") -> \"Returns Age in years\":\n",
        "    today = date.today()\n",
        "    age = today.year - birthDate.year - ((today.month, today.day) < (birthDate.month, birthDate.day))\n",
        "    return age\n",
        "\n",
        "class Fprofile(namedtuple('Fprofile', ('name', 'sex', 'birthdate', 'blood_group', 'current_location'))):\n",
        "    @classmethod\n",
        "    def calculateage(cls, fprofile) -> \"Returns Age in years\":\n",
        "        'This class method calculates age of given list of profile'\n",
        "        birthDate = fprofile.birthdate\n",
        "        today = date.today()\n",
        "        age = today.year - birthDate.year - ((today.month, today.day) < (birthDate.month, birthDate.day))\n",
        "        return age\n",
        "\n",
        "    @classmethod\n",
        "    def aver_age(cls, fprofiles) -> 'This class method calculates average age of given list of profiles':\n",
        "        'This class method calculates average age of given list of profiles'\n",
        "        if not all(isinstance(fprofile, cls) for fprofile in fprofiles):\n",
        "            raise ValueError('All items in sequence must be of type {}'.format(cls.__name__))\n",
        "        return sum(cls.calculateage(fprofile) for fprofile in fprofiles) / len(fprofiles)\n",
        "\n",
        "    @classmethod\n",
        "    def max_age(cls, fprofiles) -> \"Returns Max age of given list of profiles\":\n",
        "        'This class method calculates max age of given list of profiles'\n",
        "        if not all(isinstance(fprofile, cls) for fprofile in fprofiles):\n",
        "            raise ValueError('All items in sequence must be of type {}'.format(cls.__name__))\n",
        "        return max(cls.calculateage(fprofile) for fprofile in fprofiles)\n",
        "\n",
        "    @classmethod\n",
        "    def mean_current_location(cls, fprofiles) -> \"Returns Mean current Location of given list of profiles\":\n",
        "        \"Returns Mean current Location of given list of profiles\"\n",
        "        if not all(isinstance(fprofile, cls) for fprofile in fprofiles):\n",
        "            raise ValueError('All items in sequence must be of type {}'.format(cls.__name__))\n",
        "        mean_lat = sum(fprofile.current_location[0] for fprofile in fprofiles) / len(fprofiles)\n",
        "        mean_long = sum(fprofile.current_location[1] for fprofile in fprofiles) / len(fprofiles)\n",
        "        return (mean_lat, mean_long)\n",
        "\n",
        "    @classmethod\n",
        "    def largest_blood_type(cls, fprofiles) -> \"Returns Largest Blood Group of given list of profiles\":\n",
        "        'This class method returns largest blood group of given list of profiles'\n",
        "        if not all(isinstance(fprofile, cls) for fprofile in fprofiles):\n",
        "            raise ValueError('All items in sequence must be of type {}'.format(cls.__name__))\n",
        "        Blood_group_count = Counter(fprofile.blood_group for fprofile in fprofiles)\n",
        "        return max(Blood_group_count, key=Blood_group_count.get)\n",
        "\n",
        "Fprofile.__doc__ = 'Profile of Employees/User'\n",
        "Fprofile.name.__doc__ = 'Name of Employees/User '\n",
        "Fprofile.sex.__doc__ = 'Sex of Employees/User'\n",
        "Fprofile.birthdate.__doc__ = 'Date of birth of Employees/User'\n",
        "Fprofile.blood_group.__doc__ = 'Blood group of Employees/User'\n",
        "Fprofile.current_location.__doc__ = 'Current location of Employees/User'"
      ],
      "execution_count": 27,
      "outputs": []
    },
    {
      "cell_type": "code",
      "metadata": {
        "id": "zooyPewY0hik"
      },
      "source": [
        "def function_profile_creation(count: \"Number of profile to be created using faker\"):\n",
        "    \"Returns  profile stored in named tuple and dictionary in list for user defined count\"\n",
        "    LIST_tuple = []\n",
        "    LIST_dict = []\n",
        "    for n in range(count):\n",
        "        x = fake.profile()\n",
        "        # Tuple based\n",
        "        LIST_tuple.append(Fprofile(x['name'], x['sex'], x['birthdate'], x['blood_group'], x['current_location']))\n",
        "        # Dictionary based\n",
        "        LIST_dict.append({'name': x['name'], 'sex': x['sex'], 'birthdate': x['birthdate'], 'blood_group': x['blood_group'],'current_location': x['current_location']})\n",
        "    return LIST_tuple, LIST_dict"
      ],
      "execution_count": 28,
      "outputs": []
    },
    {
      "cell_type": "code",
      "metadata": {
        "id": "bQQYj4Ie0hHF"
      },
      "source": [
        "def function_profile_data_tuple_process(LIST: \"List of Named tuple\"):\n",
        "    \"\"\"\n",
        "    This function returns following for given list of profiles stores in Namedtuple\n",
        "    - Average age in given set of profiles\n",
        "    - Age of oldest person in given set of profiles\n",
        "    -mean location of  in given set of profiles\n",
        "    -largest_blood_type  in given set of profiles\n",
        "    \"\"\"\n",
        "    average_age = Fprofile.aver_age(LIST)\n",
        "    oldest_person_age = Fprofile.max_age(LIST)\n",
        "    mean_current_location = Fprofile.mean_current_location(LIST)\n",
        "    largest_blood_type = Fprofile.largest_blood_type(LIST)\n",
        "    return average_age, oldest_person_age, mean_current_location, largest_blood_type"
      ],
      "execution_count": 29,
      "outputs": []
    },
    {
      "cell_type": "code",
      "metadata": {
        "id": "urJ1x6Xt1HN6"
      },
      "source": [
        "def function_profile_data_dict_process(LIST_d: \"List of dictionary\"):\n",
        "    \"\"\"\n",
        "    This function returns following for given list of profiles stores in Dictionary\n",
        "    - Average age in given set of profiles\n",
        "    - Age of oldest person in given set of profiles\n",
        "    -mean location of  in given set of profiles\n",
        "    -largest_blood_type  in given set of profiles\n",
        "    \"\"\"\n",
        "    oldest_person_age_d = 0\n",
        "    blood_group_count_d = {'O+': 0, 'B-': 0, 'AB+': 0, 'B+': 0, 'O-': 0, 'AB-': 0, 'A-': 0, 'A+': 0}\n",
        "    average_age_d = 0\n",
        "    mean_current_location_d = (0, 0)\n",
        "    average_age_d = 0\n",
        "    Num_profile = len(LIST_d)\n",
        "    for n in range(Num_profile):\n",
        "        ##Max age\n",
        "        age = calculateage(LIST_d[n]['birthdate'])\n",
        "        oldest_person_age_d = max(oldest_person_age_d, age)\n",
        "        ##average age\n",
        "        age = calculateage(LIST_d[n]['birthdate'])\n",
        "        average_age_d = (average_age_d * n + age) / (n + 1)\n",
        "        ##mean_current_location\n",
        "        mean_current_location_d = Decimal(\n",
        "            (mean_current_location_d[0] * n + LIST_d[n]['current_location'][0]) / (n + 1)), Decimal(\n",
        "            (mean_current_location_d[1] * n + LIST_d[n]['current_location'][1]) / (n + 1))\n",
        "        ###Max Blood group\n",
        "        blood_group_count_d[LIST_d[n]['blood_group']] = blood_group_count_d[LIST_d[n]['blood_group']] + 1\n",
        "    largest_blood_type_d = (max(blood_group_count_d.items(), key=operator.itemgetter(1))[0])\n",
        "    return average_age_d, oldest_person_age_d, mean_current_location_d, largest_blood_type_d"
      ],
      "execution_count": 30,
      "outputs": []
    },
    {
      "cell_type": "code",
      "metadata": {
        "id": "FQ1vLQG4BpBn"
      },
      "source": [
        "Num_profile=10\n",
        "Num_run=1"
      ],
      "execution_count": 31,
      "outputs": []
    },
    {
      "cell_type": "code",
      "metadata": {
        "id": "JfDftlUG1jgf"
      },
      "source": [
        "LIST_tuple,LIST_dict=function_profile_creation(Num_profile)\n"
      ],
      "execution_count": 32,
      "outputs": []
    },
    {
      "cell_type": "markdown",
      "metadata": {
        "id": "5rXEpOEAa8lm"
      },
      "source": [
        "Below calculation is for Named Tuple"
      ]
    },
    {
      "cell_type": "code",
      "metadata": {
        "id": "s01llBpyBY7W",
        "outputId": "f1f09f01-8e77-4d95-dafd-97f239d25da0",
        "colab": {
          "base_uri": "https://localhost:8080/",
          "height": 105
        }
      },
      "source": [
        "start1 = time.perf_counter()\n",
        "for n in range(Num_run):    \n",
        "    average_age,oldest_person_age,mean_current_location,largest_blood_type=function_profile_data_tuple_process(LIST_tuple)\n",
        "end1 = time.perf_counter()\n",
        "delta1 = (end1-start1)/Num_run\n",
        "print(f\"Average age of list is {average_age:0.2f}\")\n",
        "print(f\"Age of oldest persion is {oldest_person_age} in yrs\")\n",
        "print(f\"Mean average location is {mean_current_location}\")\n",
        "print(f\"Largest blood group type is {largest_blood_type}\")\n",
        "print(f\"Average run Time  is {delta1}\")"
      ],
      "execution_count": 33,
      "outputs": [
        {
          "output_type": "stream",
          "text": [
            "Average age of list is 45.30\n",
            "Age of oldest persion is 107 in yrs\n",
            "Mean average location is (Decimal('-10.31620055'), Decimal('28.485324'))\n",
            "Largest blood group type is B-\n",
            "Average run Time  is 0.0002170830000522983\n"
          ],
          "name": "stdout"
        }
      ]
    },
    {
      "cell_type": "markdown",
      "metadata": {
        "id": "oyi-p5qL4U1w"
      },
      "source": [
        "**Below calculation is for Dictionary**"
      ]
    },
    {
      "cell_type": "code",
      "metadata": {
        "id": "ggxlPcmy4Ujf",
        "outputId": "68982936-75a6-489d-f59c-8edbd5081d86",
        "colab": {
          "base_uri": "https://localhost:8080/",
          "height": 105
        }
      },
      "source": [
        "start2 = time.perf_counter()\n",
        "for n in range(Num_run):\n",
        "    average_age_d,oldest_person_age_d,mean_current_location_d,largest_blood_type_d=function_profile_data_dict_process(LIST_dict)\n",
        "end2 = time.perf_counter()\n",
        "delta2 = (end2-start2)/Num_run\n",
        "print(f\"Average age of list is {average_age_d:0.2f}\")\n",
        "print(f\"Age of oldest persion is {oldest_person_age_d} in yrs\")\n",
        "print(f\"Mean average location is {mean_current_location_d}\")\n",
        "print(f\"Largest blood group type is {largest_blood_type_d}\")\n",
        "print(f\"Average Time Taken  is {delta2}\")"
      ],
      "execution_count": 34,
      "outputs": [
        {
          "output_type": "stream",
          "text": [
            "Average age of list is 45.30\n",
            "Age of oldest persion is 107 in yrs\n",
            "Mean average location is (Decimal('-10.3162005500000000000000000'), Decimal('28.4853240000000000000000000'))\n",
            "Largest blood group type is B-\n",
            "Average Time Taken  is 0.0002709039999899687\n"
          ],
          "name": "stdout"
        }
      ]
    },
    {
      "cell_type": "code",
      "metadata": {
        "id": "Lowq7Khbmrxs",
        "outputId": "089176f7-5a53-4b24-a12b-9a4675516f28",
        "colab": {
          "base_uri": "https://localhost:8080/",
          "height": 123
        }
      },
      "source": [
        "print(isclose(average_age,average_age_d))\n",
        "print(oldest_person_age==oldest_person_age_d)\n",
        "print(isclose(mean_current_location[0],mean_current_location_d[0]))\n",
        "print(isclose(mean_current_location[1],mean_current_location_d[1]))\n",
        "print(largest_blood_type==largest_blood_type_d)\n",
        "print(f\"Named tuple is faster than dictionary by  {((delta2/delta1-1)*100):0.2f}% \")"
      ],
      "execution_count": 35,
      "outputs": [
        {
          "output_type": "stream",
          "text": [
            "True\n",
            "True\n",
            "True\n",
            "True\n",
            "True\n",
            "Named tuple is faster than dictionary by  24.79% \n"
          ],
          "name": "stdout"
        }
      ]
    },
    {
      "cell_type": "markdown",
      "metadata": {
        "id": "Q5z0feojIf_e"
      },
      "source": [
        "***Fake Stock Exchange***"
      ]
    },
    {
      "cell_type": "code",
      "metadata": {
        "id": "c6cFtI98IrTR"
      },
      "source": [
        "Stock_weight_norm=namedtuple('Stock_weight_norm', ('name','nw' ))\n",
        "Stock_weight_norm.__doc__ = 'Stock Weight Details for Day trade'\n",
        "Stock_weight_norm.name.__doc__ = 'Name of Stock'\n",
        "Stock_weight_norm.nw.__doc__ = 'Normilized weight of Stock that day'\n",
        "\n",
        "class Stock(namedtuple('Stock', ('name', 'symbol','open', 'high', 'close','low','weight' ))):\n",
        "    \n",
        "    @classmethod\n",
        "    def normilized_weight(cls,stocks) -> \"returns normalized values for \":\n",
        "        'This class method calculates normalized weights for given set of weights '         \n",
        "        if not all(isinstance(stock, cls) for stock in stocks):\n",
        "            raise ValueError('All items in sequence must be of type {}'.format(cls.__name__))\n",
        "        Total_weight=sum(stock[6] for stock in stocks) \n",
        "        normilized_weights=[Stock_weight_norm(stock.name,(stock.weight/Total_weight)) for stock in stocks]        \n",
        "        return normilized_weights\n",
        "\n",
        "    @classmethod\n",
        "    def stock_ex_value(cls,stocks) -> \"returns normalized values for \":\n",
        "        'This class method calculates normalized weights for given set of weights '         \n",
        "        if not all(isinstance(stock, cls) for stock in stocks):\n",
        "            raise ValueError('All items in sequence must be of type {}'.format(cls.__name__))\n",
        "        normilized_weights=cls.normilized_weight(stocks)\n",
        "        Exch_open=sum(s.open*norw.nw if s.name==norw.name else \"error\" for s,norw in zip(stocks,normilized_weights))\n",
        "        Exch_high=sum(s.high*norw.nw if s.name==norw.name else \"error\"for s,norw in zip(stocks,normilized_weights))\n",
        "        Exch_close=sum(s.close*norw.nw if s.name==norw.name else \"error\"for s,norw in zip(stocks,normilized_weights))\n",
        "        Exch_low=sum(s.low*norw.nw if s.name==norw.name else \"error\"for s,norw in zip(stocks,normilized_weights))        \n",
        "        return Exch_open,Exch_high,Exch_close,Exch_low\n",
        "\n",
        "Stock.__doc__ = 'Stock Detail for Day trade'\n",
        "Stock.name.__doc__ = 'Name of Stock'\n",
        "Stock.symbol.__doc__ = 'symbol of Stock'\n",
        "Stock.open.__doc__ = 'Opening Value of Stock that day'\n",
        "Stock.high.__doc__ = 'highest Value of Stock that day'\n",
        "Stock.close.__doc__ = 'closing highest Value of Stock that day'\n",
        "Stock.low.__doc__ = 'closing lowest Value of Stock that day'\n",
        "Stock.weight.__doc__ = 'weight Stock that day'"
      ],
      "execution_count": 63,
      "outputs": []
    },
    {
      "cell_type": "code",
      "metadata": {
        "id": "NIZrF4Og6Jgo"
      },
      "source": [
        ""
      ],
      "execution_count": null,
      "outputs": []
    },
    {
      "cell_type": "code",
      "metadata": {
        "id": "xvwHzKfUZZYM",
        "outputId": "069ded07-ee57-4e72-8306-6b3dc64f4ea0",
        "colab": {
          "base_uri": "https://localhost:8080/",
          "height": 1000
        }
      },
      "source": [
        "import random\n",
        "from random  import uniform\n",
        "from random import randint\n",
        "from prettytable import PrettyTable\n",
        "stock_count=100\n",
        "\n",
        "\n",
        "def function_fstock_creation(count: \"Number of stock to be created using faker\"):\n",
        "    \"Returns  profile stored in named tuple in list for user defined count\"\n",
        "    Stock_list=[]\n",
        "    Stock_list_dict=[]\n",
        "    for n in range(stock_count):    \n",
        "        name=fake.company()\n",
        "        symbol=name[:3]\n",
        "        low=uniform(100,5000)\n",
        "        high=uniform(low,5000)    \n",
        "        open=uniform(low,high)    \n",
        "        close=uniform(low,high) \n",
        "        weight=uniform(0.8,1.2)    \n",
        "        Stock_list.append(Stock(name,symbol,open,high,close,low,weight))  \n",
        "        Stock_list_dict.append({\"name\": name,\"symbol\" : symbol,\"open\":open,\"high\":high,\"close\":close,\"low\":low,\"weight\":weight})  \n",
        "    return Stock_list,Stock_list_dict\n",
        "\n",
        "\n",
        "Stock_100,Stock_list_dic=function_fstock_creation(100)\n",
        "    \n",
        "\n",
        "nw_tab=Stock.normilized_weight(Stock_100)\n",
        "Exch_open,Exch_high,Exch_close,Exch_low=Stock.stock_ex_value(Stock_100)\n",
        "\n",
        "\n",
        "P_Table=PrettyTable(['name', 'symbol','open', 'high', 'close','low','weight',\"Nor_Weight\",\"c_open\",\"c_high\",\"c_close\",\"c_low\"])       \n",
        "\n",
        "Exch_open1,Exch_high1,Exch_close1,Exch_low1=0,0,0,0\n",
        "\n",
        "for n in range(stock_count):\n",
        "    P_Table.add_row([Stock_100[n][0],Stock_100[n][1],Stock_100[n][2],round(Stock_100[n][3],2),round(Stock_100[n][4],2),round(Stock_100[n][5],2),round(Stock_100[n][6],2),\n",
        "                    round(nw_tab[n][1],2),round(Stock_100[n][2]*nw_tab[n][1],2),round(Stock_100[n][3]*nw_tab[n][1],2),\n",
        "                    round(Stock_100[n][4]*nw_tab[n][1],2),round(Stock_100[n][5]*nw_tab[n][1],2)])\n",
        "    Exch_open1+=Stock_100[n][2]*nw_tab[n][1]\n",
        "    Exch_high1+=Stock_100[n][3]*nw_tab[n][1]\n",
        "    Exch_close1+=Stock_100[n][4]*nw_tab[n][1]\n",
        "    Exch_low1+=Stock_100[n][5]*nw_tab[n][1]\n",
        "\n",
        "P_Table.add_row([\"-\",\"-\",\"-\",\"-\",\"-\",\"-\",\"-\",\"Total=\",round(Exch_open,3),round(Exch_high,3),round(Exch_close,3),round(Exch_low,3)])\n",
        "\n",
        "\n",
        "\n",
        "\n",
        "print(\"Stock Markert Day stats\") \n",
        "print(P_Table)\n",
        "\n",
        "print(f\"Test-{isclose(Exch_open,Exch_open1)},{isclose(Exch_high,Exch_high1)},{isclose(Exch_close,Exch_close1)},{isclose(Exch_low,Exch_low1)}\")\n",
        "\n",
        "\n"
      ],
      "execution_count": 77,
      "outputs": [
        {
          "output_type": "stream",
          "text": [
            "Stock Markert Day stats\n",
            "+-------------------------------+--------+--------------------+---------+---------+---------+--------+------------+----------+----------+----------+----------+\n",
            "|              name             | symbol |        open        |   high  |  close  |   low   | weight | Nor_Weight |  c_open  |  c_high  | c_close  |  c_low   |\n",
            "+-------------------------------+--------+--------------------+---------+---------+---------+--------+------------+----------+----------+----------+----------+\n",
            "|    Mayo, Ballard and Patel    |  May   | 1332.2671672805873 | 1836.24 | 1177.21 | 1102.47 |  0.97  |    0.01    |  13.13   |   18.1   |   11.6   |  10.86   |\n",
            "|    Lamb, Townsend and Smith   |  Lam   |  4984.92498916251  | 4991.99 | 4982.67 | 4971.68 |  0.97  |    0.01    |  49.07   |  49.14   |  49.05   |  48.94   |\n",
            "|           Baker LLC           |  Bak   | 1689.8692887605412 | 2019.96 | 1854.16 |  1307.4 |  1.15  |    0.01    |  19.63   |  23.46   |  21.54   |  15.19   |\n",
            "|         Carr-Williams         |  Car   | 3897.817805025497  | 4399.73 |  4299.2 | 3788.69 |  1.18  |    0.01    |  46.58   |  52.58   |  51.38   |  45.28   |\n",
            "|     Ruiz, White and Gamble    |  Rui   | 1763.4991186393736 |  2256.6 | 1858.23 | 1408.33 |  1.02  |    0.01    |  18.19   |  23.28   |  19.17   |  14.53   |\n",
            "|          Stevens Inc          |  Ste   | 2495.816783715969  | 4218.16 | 1007.21 |  230.2  |  1.04  |    0.01    |  26.28   |  44.42   |  10.61   |   2.42   |\n",
            "|          Allen Group          |  All   | 4730.0376571797415 | 4940.65 | 2347.15 | 1440.48 |  0.94  |    0.01    |  44.92   |  46.92   |  22.29   |  13.68   |\n",
            "|          Buchanan LLC         |  Buc   | 2409.154429455737  | 3424.83 | 2475.42 | 1413.23 |  0.98  |    0.01    |  23.88   |  33.95   |  24.54   |  14.01   |\n",
            "|    Reyes, Duncan and Smith    |  Rey   | 1956.1438278071446 | 2448.64 | 2339.78 |  1770.7 |  1.01  |    0.01    |  19.96   |  24.98   |  23.87   |  18.06   |\n",
            "|          Pitts-Jacobs         |  Pit   | 665.1814060805893  | 1016.68 |  373.11 |  263.58 |  0.98  |    0.01    |   6.6    |  10.09   |   3.7    |   2.62   |\n",
            "|          Jones-Silva          |  Jon   | 2188.0840258853304 | 2668.09 | 2099.94 |  416.72 |  0.81  |    0.01    |  17.91   |  21.84   |  17.19   |   3.41   |\n",
            "|            Wang LLC           |  Wan   | 266.9037618640457  |  1359.5 |  196.62 |  138.14 |  0.87  |    0.01    |   2.35   |  11.95   |   1.73   |   1.21   |\n",
            "|            Wade LLC           |  Wad   | 3205.0667596937583 | 3895.98 | 3149.53 | 1573.26 |  1.05  |    0.01    |  33.97   |   41.3   |  33.39   |  16.68   |\n",
            "|           Price PLC           |  Pri   | 1441.2617202859615 |  1574.4 | 1529.55 | 1102.51 |  0.94  |    0.01    |  13.74   |  15.01   |  14.58   |  10.51   |\n",
            "|           Taylor Ltd          |  Tay   | 3408.3540425169426 | 3619.58 | 3578.32 | 3157.66 |  0.91  |    0.01    |  31.56   |  33.51   |  33.13   |  29.24   |\n",
            "|    Moreno, Allen and Smith    |  Mor   | 4774.210866361571  | 4782.06 | 4700.47 | 4564.53 |  1.11  |    0.01    |  53.61   |   53.7   |  52.79   |  51.26   |\n",
            "|   Marquez, Nunez and Martin   |  Mar   | 3384.7541454994207 | 3419.14 | 3340.11 | 3227.29 |  0.99  |    0.01    |   34.0   |  34.34   |  33.55   |  32.42   |\n",
            "|         Trujillo-Welch        |  Tru   | 4213.382404921747  | 4282.15 | 4258.34 | 4182.62 |  1.07  |    0.01    |  45.64   |  46.38   |  46.13   |  45.31   |\n",
            "|          Carey-Hogan          |  Car   | 2401.625722866147  | 3564.62 | 3370.53 | 2201.68 |  0.93  |    0.01    |  22.63   |  33.59   |  31.76   |  20.75   |\n",
            "|       Harris-Williamson       |  Har   | 4325.096365893674  | 4436.63 | 4327.72 | 4299.73 |  0.8   |    0.01    |  35.26   |  36.17   |  35.28   |  35.05   |\n",
            "|          Davis-Joseph         |  Dav   | 4183.673605102221  | 4187.28 | 4132.91 |  4104.6 |  0.94  |    0.01    |  39.82   |  39.86   |  39.34   |  39.07   |\n",
            "|   Anderson, Nguyen and Hall   |  And   | 2913.251582521411  | 4271.32 | 3442.55 |  1170.5 |  0.9   |    0.01    |  26.67   |  39.11   |  31.52   |  10.72   |\n",
            "|           Singh-Paul          |  Sin   | 3380.3008532337312 | 4912.08 | 3843.19 | 3075.33 |  0.9   |    0.01    |  30.96   |  44.99   |   35.2   |  28.17   |\n",
            "|        Jones-Robertson        |  Jon   | 4196.589050936809  |  4940.9 | 2215.45 | 1175.67 |  0.83  |    0.01    |  35.29   |  41.55   |  18.63   |   9.89   |\n",
            "|     Young, Gibbs and Cole     |  You   | 4107.2624440076215 |  4124.3 | 4090.61 | 3912.15 |  1.05  |    0.01    |  43.64   |  43.82   |  43.46   |  41.57   |\n",
            "|         Johnson Group         |  Joh   | 783.7437581158688  | 2657.57 | 1236.14 |  451.39 |  0.85  |    0.01    |   6.74   |  22.86   |  10.63   |   3.88   |\n",
            "|   Stanley, Parks and Hayden   |  Sta   | 4282.436678674552  | 4359.01 | 4181.41 | 3436.31 |  1.2   |    0.01    |  51.88   |  52.81   |  50.66   |  41.63   |\n",
            "|         Watson-Murphy         |  Wat   | 4610.729592652059  | 4996.33 | 4540.68 | 4528.77 |  0.85  |    0.01    |  39.76   |  43.08   |  39.15   |  39.05   |\n",
            "|          Butler-Doyle         |  But   | 1654.5327253770654 | 2748.23 | 1842.59 | 1145.89 |  0.99  |    0.01    |  16.61   |  27.59   |   18.5   |   11.5   |\n",
            "|           Cox-Smith           |  Cox   | 2201.010950183216  | 2477.98 |  2421.2 | 2089.81 |  1.1   |    0.01    |  24.43   |   27.5   |  26.87   |   23.2   |\n",
            "|   Baker, White and Gonzales   |  Bak   | 2931.5350113340746 | 3917.13 | 1193.28 |  329.63 |  0.97  |    0.01    |  28.75   |  38.42   |   11.7   |   3.23   |\n",
            "|          Gonzalez LLC         |  Gon   | 4762.4770896494765 | 4955.22 | 4776.11 | 4604.57 |  1.09  |    0.01    |  52.58   |  54.71   |  52.73   |  50.83   |\n",
            "| Everett, Jackson and Mckinney |  Eve   | 4034.275774602025  | 4142.67 | 4077.62 | 3989.01 |  0.93  |    0.01    |  37.96   |  38.98   |  38.37   |  37.53   |\n",
            "|          Johnson PLC          |  Joh   | 3745.9723639822537 | 4442.21 | 3935.05 | 3344.61 |  1.2   |    0.01    |  45.48   |  53.94   |  47.78   |  40.61   |\n",
            "|         Hawkins Group         |  Haw   | 1753.8533887539895 | 3495.26 | 3449.67 | 1090.11 |  1.07  |    0.01    |  18.94   |  37.75   |  37.26   |  11.78   |\n",
            "|           Young PLC           |  You   | 3380.8388872813675 | 4161.81 | 3922.11 |  3238.6 |  1.0   |    0.01    |  34.23   |  42.14   |  39.71   |  32.79   |\n",
            "|   Taylor, Arnold and Harris   |  Tay   | 4363.320520435469  | 4778.32 | 3118.62 | 2471.52 |  0.89  |    0.01    |  39.12   |  42.84   |  27.96   |  22.16   |\n",
            "|           Perry PLC           |  Per   | 3870.0578894796085 | 4519.03 | 3012.67 | 2663.76 |  1.08  |    0.01    |  42.32   |  49.41   |  32.94   |  29.13   |\n",
            "|           Tucker-Ray          |  Tuc   | 2258.3453237657395 | 3047.13 | 2716.28 |  759.88 |  0.95  |    0.01    |  21.65   |  29.22   |  26.05   |   7.29   |\n",
            "|          Collins-King         |  Col   | 1847.7153200277432 | 1970.57 | 1561.99 | 1304.35 |  0.81  |    0.01    |  15.23   |  16.24   |  12.87   |  10.75   |\n",
            "|           Rivera PLC          |  Riv   | 4988.1539016822835 | 4992.22 | 4991.66 | 4914.55 |  1.12  |    0.01    |  56.58   |  56.63   |  56.62   |  55.75   |\n",
            "|     Hill, Moss and Jenkins    |  Hil   | 4730.206904484407  | 4854.91 | 4846.41 | 4540.31 |  1.04  |    0.01    |  49.61   |  50.92   |  50.83   |  47.62   |\n",
            "|    Hill, Woods and Ramirez    |  Hil   | 1414.5258700960944 |  1817.0 |  846.68 |  718.64 |  1.13  |    0.01    |  16.18   |  20.78   |   9.68   |   8.22   |\n",
            "|         Robinson-Perez        |  Rob   | 3110.038807310522  | 4844.23 | 4381.16 | 2178.03 |  1.2   |    0.01    |  37.68   |  58.69   |  53.08   |  26.39   |\n",
            "|         Villegas-Wood         |  Vil   | 4664.4866329062315 | 4696.48 | 4680.76 | 4620.81 |  0.91  |    0.01    |  43.12   |  43.41   |  43.27   |  42.71   |\n",
            "|          Ramirez PLC          |  Ram   | 4440.091030489157  | 4596.81 | 3388.49 | 1897.64 |  0.92  |    0.01    |  41.33   |  42.79   |  31.54   |  17.66   |\n",
            "|          Meyer-Baird          |  Mey   | 3408.8362501686975 |  4206.3 | 4159.82 | 2910.85 |  0.81  |    0.01    |  28.07   |  34.64   |  34.26   |  23.97   |\n",
            "|    Lopez, Huynh and Bernard   |  Lop   | 4764.681305212109  | 4906.85 | 3925.73 | 3834.75 |  1.04  |    0.01    |  50.27   |  51.77   |  41.42   |  40.46   |\n",
            "|         Gordon-Carter         |  Gor   | 1829.5244875652788 | 2041.87 |  836.74 |  509.51 |  1.01  |    0.01    |  18.74   |  20.92   |   8.57   |   5.22   |\n",
            "|            Todd Ltd           |  Tod   | 2506.6166024561135 | 3435.51 |  2331.8 | 1297.37 |  1.05  |    0.01    |  26.62   |  36.48   |  24.76   |  13.78   |\n",
            "|        Andersen-Sellers       |  And   | 3804.3068733566315 | 3977.92 | 3857.64 | 3631.39 |  0.99  |    0.01    |  38.31   |  40.06   |  38.85   |  36.57   |\n",
            "|          Thomas-Diaz          |  Tho   | 1317.0880501504812 | 2541.37 | 1239.88 | 1161.76 |  1.07  |    0.01    |  14.25   |   27.5   |  13.42   |  12.57   |\n",
            "|        Dixon-Hernandez        |  Dix   | 1499.7508751558971 | 3248.62 |  772.87 |  688.73 |  1.08  |    0.01    |  16.45   |  35.63   |   8.48   |   7.55   |\n",
            "|        Daniels and Sons       |  Dan   | 4679.120106995735  | 4986.53 | 4804.42 |  4352.3 |  1.04  |    0.01    |  49.08   |   52.3   |  50.39   |  45.65   |\n",
            "|        Kennedy-Mitchell       |  Ken   |  4463.67836472672  | 4990.71 | 3981.12 | 3458.69 |  0.88  |    0.01    |  39.64   |  44.32   |  35.36   |  30.72   |\n",
            "|         Price-Stewart         |  Pri   | 1406.1431106337343 | 3246.34 |  967.96 |  614.42 |  0.98  |    0.01    |  14.02   |  32.37   |   9.65   |   6.13   |\n",
            "|           Taylor Inc          |  Tay   | 2855.4717043033106 |  3244.2 | 2427.19 |  550.95 |  0.96  |    0.01    |  27.68   |  31.45   |  23.53   |   5.34   |\n",
            "|    Logan, Jones and Hopkins   |  Log   |  4680.43451467626  |  4957.2 | 4767.83 | 4680.24 |  0.96  |    0.01    |  45.35   |  48.03   |  46.19   |  45.35   |\n",
            "|        Gonzales-Bishop        |  Gon   | 3903.795131870914  | 3904.52 | 3902.47 | 3896.87 |  1.09  |    0.01    |  43.13   |  43.14   |  43.11   |  43.05   |\n",
            "|       Benitez-Carpenter       |  Ben   | 4528.054312198538  | 4549.85 | 4449.99 | 4435.49 |  0.84  |    0.01    |  38.56   |  38.75   |   37.9   |  37.77   |\n",
            "|         Church-Dawson         |  Chu   | 1407.9492423231793 | 3356.94 |  2908.8 |  680.4  |  1.14  |    0.01    |  16.26   |  38.76   |  33.59   |   7.86   |\n",
            "|   Greene, Moore and Johnson   |  Gre   | 4408.926744662063  | 4560.33 | 4538.54 | 4173.83 |  1.17  |    0.01    |  52.35   |  54.15   |  53.89   |  49.56   |\n",
            "|    Hancock, Gould and Rios    |  Han   | 1923.4833724955274 | 4992.12 | 4146.38 | 1119.74 |  0.98  |    0.01    |  19.01   |  49.33   |  40.97   |  11.06   |\n",
            "|   Brown, Hardy and Schwartz   |  Bro   | 2933.706315322535  |  3000.6 | 2516.69 | 2243.55 |  0.82  |    0.01    |  24.36   |  24.92   |   20.9   |  18.63   |\n",
            "|          Anderson Inc         |  And   | 2538.4799456663422 |  4806.6 | 3937.58 | 2449.13 |  0.96  |    0.01    |  24.79   |  46.94   |  38.45   |  23.92   |\n",
            "|          Johnson-Wang         |  Joh   | 3116.4157968244845 | 3189.88 | 3066.27 | 3027.46 |  0.96  |    0.01    |  30.19   |  30.91   |  29.71   |  29.33   |\n",
            "|         Thompson Group        |  Tho   | 4364.928838201516  | 4820.55 | 4743.81 | 4177.86 |  0.82  |    0.01    |   36.2   |  39.98   |  39.35   |  34.65   |\n",
            "|          Carter Group         |  Car   | 3318.733814465536  | 4196.04 | 2495.28 | 1966.94 |  0.85  |    0.01    |  28.67   |  36.25   |  21.56   |  16.99   |\n",
            "|           Rose-Scott          |  Ros   | 2803.0328367546476 | 2900.11 | 1764.17 |  606.16 |  1.19  |    0.01    |   33.7   |  34.87   |  21.21   |   7.29   |\n",
            "|           Garcia Ltd          |  Gar   | 1952.3657668609653 | 4286.72 | 3998.74 | 1734.33 |  1.15  |    0.01    |  22.78   |  50.02   |  46.66   |  20.24   |\n",
            "|            Lane Inc           |  Lan   | 4176.740006294781  | 4335.87 | 3807.26 | 3631.13 |  0.89  |    0.01    |  37.55   |  38.98   |  34.23   |  32.65   |\n",
            "|         Douglas-Crane         |  Dou   | 1579.7950020216583 | 1619.27 |  1402.3 | 1081.63 |  1.0   |    0.01    |  16.05   |  16.45   |  14.24   |  10.99   |\n",
            "|          Harvey Group         |  Har   | 3875.3931776486747 | 4045.47 | 3898.93 | 3832.42 |  0.92  |    0.01    |  35.95   |  37.53   |  36.17   |  35.55   |\n",
            "|   Harper, Brooks and Tucker   |  Har   | 2950.263356560244  | 3387.89 | 1860.61 | 1605.83 |  0.83  |    0.01    |   24.8   |  28.47   |  15.64   |   13.5   |\n",
            "|    Nichols, King and Flores   |  Nic   | 4260.369468929714  | 4263.29 |  4262.1 | 4257.88 |  0.92  |    0.01    |  39.72   |  39.75   |  39.74   |   39.7   |\n",
            "|  Clark, Steele and Zimmerman  |  Cla   | 1573.676085048471  | 1649.21 | 1649.05 |  1474.0 |  0.89  |    0.01    |  14.14   |  14.82   |  14.81   |  13.24   |\n",
            "|           Gamble LLC          |  Gam   | 2567.8101848085553 | 4090.72 | 3212.69 | 2329.71 |  1.15  |    0.01    |  29.85   |  47.55   |  37.34   |  27.08   |\n",
            "|  Rodriguez, Harris and Hansen |  Rod   | 3260.002855865718  | 3880.07 | 3341.12 | 2850.45 |  1.07  |    0.01    |  35.38   |  42.11   |  36.26   |  30.94   |\n",
            "|   Mayer, Ellis and Phillips   |  May   | 3233.7217518219322 | 3801.65 | 2346.11 |  2293.7 |  0.99  |    0.01    |  32.58   |   38.3   |  23.63   |  23.11   |\n",
            "|         Miller-Shepard        |  Mil   | 4318.241168793836  | 4525.07 | 4458.91 | 4121.16 |  1.12  |    0.01    |  49.13   |  51.48   |  50.73   |  46.89   |\n",
            "|          Wright-Jones         |  Wri   | 3155.785669448129  | 3891.44 | 2952.52 | 2801.46 |  1.03  |    0.01    |  32.87   |  40.54   |  30.76   |  29.18   |\n",
            "|  Rosales, Walker and Ferguson |  Ros   | 2074.108744246793  | 2646.75 | 2296.36 | 1552.46 |  1.16  |    0.01    |  24.33   |  31.05   |  26.94   |  18.21   |\n",
            "|          Murphy-Bates         |  Mur   | 2370.8440052536816 | 2520.79 | 2077.46 |  918.08 |  1.14  |    0.01    |  27.26   |  28.99   |  23.89   |  10.56   |\n",
            "|          Roth-Taylor          |  Rot   | 3433.658003211947  | 3532.63 | 3489.39 | 3376.15 |  1.07  |    0.01    |  37.23   |   38.3   |  37.83   |   36.6   |\n",
            "|          Haas-Barnes          |  Haa   | 3684.9787357889327 | 4005.06 | 3561.75 | 2766.63 |  1.09  |    0.01    |  40.68   |  44.21   |  39.32   |  30.54   |\n",
            "|         Henderson Inc         |  Hen   | 4334.979477644819  | 4866.32 | 4608.41 | 4219.31 |  0.91  |    0.01    |  39.76   |  44.63   |  42.27   |   38.7   |\n",
            "|         Montgomery Inc        |  Mon   | 4518.789632191099  | 4837.74 | 4572.96 | 3542.59 |  0.94  |    0.01    |  43.09   |  46.13   |  43.61   |  33.78   |\n",
            "|         Mason-Johnson         |  Mas   | 4916.754029925347  | 4945.94 | 4896.16 |  4885.0 |  0.9   |    0.01    |  44.94   |  45.21   |  44.75   |  44.65   |\n",
            "|          Fry and Sons         |  Fry   | 421.73836422330663 |  434.19 |  425.41 |  404.06 |  1.08  |    0.01    |   4.62   |   4.76   |   4.66   |   4.43   |\n",
            "|    Davis, Nunez and Wilson    |  Dav   | 2785.7265120290704 | 2891.78 |  844.56 |  450.92 |  1.19  |    0.01    |  33.58   |  34.86   |  10.18   |   5.44   |\n",
            "| Burns, Davenport and Townsend |  Bur   | 3688.6717638365217 | 4395.76 | 4205.12 | 3034.48 |  0.87  |    0.01    |  32.55   |  38.79   |  37.11   |  26.78   |\n",
            "|          Gallegos PLC         |  Gal   | 1117.233036680203  | 4936.77 | 4543.41 |  648.29 |  0.94  |    0.01    |  10.61   |  46.89   |  43.16   |   6.16   |\n",
            "|           Hunt Group          |  Hun   | 787.2264425224802  | 2630.52 |  565.71 |  533.34 |  0.88  |    0.01    |   6.99   |  23.36   |   5.02   |   4.74   |\n",
            "|           Paul Group          |  Pau   | 1434.1974028956624 | 1520.81 |  1255.1 | 1236.29 |  0.91  |    0.01    |  13.21   |  14.01   |  11.56   |  11.39   |\n",
            "|          Pollard Ltd          |  Pol   | 4204.303419581171  | 4778.35 | 3946.09 | 3717.69 |  0.89  |    0.01    |  38.05   |  43.25   |  35.71   |  33.65   |\n",
            "|           Lewis-Diaz          |  Lew   | 2896.336061406554  | 4589.88 | 4271.32 | 2749.48 |  0.92  |    0.01    |  27.09   |  42.94   |  39.96   |  25.72   |\n",
            "|          Blake Group          |  Bla   | 4632.7868869046415 | 4768.51 |  4428.3 | 4215.78 |  0.8   |    0.01    |  37.63   |  38.73   |  35.97   |  34.24   |\n",
            "|         Garcia-Flores         |  Gar   | 2372.054174591635  | 3582.28 | 3317.51 | 2006.86 |  0.9   |    0.01    |  21.67   |  32.72   |   30.3   |  18.33   |\n",
            "|         Robinson-Burke        |  Rob   | 2616.1412439983415 | 2716.04 |  2606.4 | 2589.57 |  1.03  |    0.01    |  27.42   |  28.46   |  27.32   |  27.14   |\n",
            "|          Buckley Inc          |  Buc   | 2984.144615675081  | 3584.29 | 3556.35 | 1848.84 |  0.84  |    0.01    |  25.26   |  30.34   |  30.11   |  15.65   |\n",
            "|               -               |   -    |         -          |    -    |    -    |    -    |   -    |   Total=   | 3077.974 | 3711.847 | 3089.014 | 2427.712 |\n",
            "+-------------------------------+--------+--------------------+---------+---------+---------+--------+------------+----------+----------+----------+----------+\n",
            "Test-True,True,True,True\n"
          ],
          "name": "stdout"
        }
      ]
    },
    {
      "cell_type": "code",
      "metadata": {
        "id": "9ZRjuUuQgM0C"
      },
      "source": [
        ""
      ],
      "execution_count": null,
      "outputs": []
    }
  ]
}