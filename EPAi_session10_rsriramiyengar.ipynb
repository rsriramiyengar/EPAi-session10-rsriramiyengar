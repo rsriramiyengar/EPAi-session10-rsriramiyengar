{
  "nbformat": 4,
  "nbformat_minor": 0,
  "metadata": {
    "colab": {
      "name": "EPAi-session10-rsriramiyengar.ipynb",
      "provenance": [],
      "collapsed_sections": []
    },
    "kernelspec": {
      "name": "python3",
      "display_name": "Python 3"
    }
  },
  "cells": [
    {
      "cell_type": "markdown",
      "metadata": {
        "id": "cwLSTiEN0_LM"
      },
      "source": [
        "**Assignment for Session 10 - Tuples & Named Tuples and Modules**"
      ]
    },
    {
      "cell_type": "code",
      "metadata": {
        "id": "Y3sj179w06Ex",
        "outputId": "15a4d497-fda1-43c4-f90a-7ae0aba6d571",
        "colab": {
          "base_uri": "https://localhost:8080/",
          "height": 87
        }
      },
      "source": [
        "!pip install Faker\n",
        "from collections import namedtuple\n",
        "from faker import Faker\n",
        "import datetime\n",
        "from datetime import date \n",
        "from datetime import time \n",
        "import operator \n",
        "fake = Faker()\n",
        "from decimal import Decimal\n",
        "from decimal import getcontext\n",
        "import decimal\n",
        "import contextlib \n",
        "import time\n",
        "from collections import Counter\n",
        "import math\n",
        "from math import isclose\n",
        "\n",
        "import random\n",
        "from random  import uniform\n",
        "from random import randint\n",
        "from prettytable import PrettyTable\n",
        "\n",
        "\n"
      ],
      "execution_count": 13,
      "outputs": [
        {
          "output_type": "stream",
          "text": [
            "Requirement already satisfied: Faker in /usr/local/lib/python3.6/dist-packages (4.1.3)\n",
            "Requirement already satisfied: text-unidecode==1.3 in /usr/local/lib/python3.6/dist-packages (from Faker) (1.3)\n",
            "Requirement already satisfied: python-dateutil>=2.4 in /usr/local/lib/python3.6/dist-packages (from Faker) (2.8.1)\n",
            "Requirement already satisfied: six>=1.5 in /usr/local/lib/python3.6/dist-packages (from python-dateutil>=2.4->Faker) (1.15.0)\n"
          ],
          "name": "stdout"
        }
      ]
    },
    {
      "cell_type": "code",
      "metadata": {
        "id": "LMe5SG061Pky"
      },
      "source": [
        "def calculateage(birthDate: \"date of birthof person\") -> \"Returns Age in years\":\n",
        "    today = date.today()\n",
        "    age = today.year - birthDate.year - ((today.month, today.day) < (birthDate.month, birthDate.day))\n",
        "    return age\n",
        "\n",
        "class Fprofile(namedtuple('Fprofile', ('name', 'sex', 'birthdate', 'blood_group', 'current_location'))):\n",
        "    @classmethod\n",
        "    def calculateage(cls, fprofile) -> \"Returns Age in years\":\n",
        "        'This class method calculates age of given list of profile'\n",
        "        birthDate = fprofile.birthdate\n",
        "        today = date.today()\n",
        "        age = today.year - birthDate.year - ((today.month, today.day) < (birthDate.month, birthDate.day))\n",
        "        return age\n",
        "\n",
        "    @classmethod\n",
        "    def aver_age(cls, fprofiles) -> 'This class method calculates average age of given list of profiles':\n",
        "        'This class method calculates average age of given list of profiles'\n",
        "        if not all(isinstance(fprofile, cls) for fprofile in fprofiles):\n",
        "            raise ValueError('All items in sequence must be of type {}'.format(cls.__name__))\n",
        "        return sum(cls.calculateage(fprofile) for fprofile in fprofiles) / len(fprofiles)\n",
        "\n",
        "    @classmethod\n",
        "    def max_age(cls, fprofiles) -> \"Returns Max age of given list of profiles\":\n",
        "        'This class method calculates max age of given list of profiles'\n",
        "        if not all(isinstance(fprofile, cls) for fprofile in fprofiles):\n",
        "            raise ValueError('All items in sequence must be of type {}'.format(cls.__name__))\n",
        "        return max(cls.calculateage(fprofile) for fprofile in fprofiles)\n",
        "\n",
        "    @classmethod\n",
        "    def mean_current_location(cls, fprofiles) -> \"Returns Mean current Location of given list of profiles\":\n",
        "        \"Returns Mean current Location of given list of profiles\"\n",
        "        if not all(isinstance(fprofile, cls) for fprofile in fprofiles):\n",
        "            raise ValueError('All items in sequence must be of type {}'.format(cls.__name__))\n",
        "        mean_lat = sum(fprofile.current_location[0] for fprofile in fprofiles) / len(fprofiles)\n",
        "        mean_long = sum(fprofile.current_location[1] for fprofile in fprofiles) / len(fprofiles)\n",
        "        return (mean_lat, mean_long)\n",
        "\n",
        "    @classmethod\n",
        "    def largest_blood_type(cls, fprofiles) -> \"Returns Largest Blood Group of given list of profiles\":\n",
        "        'This class method returns largest blood group of given list of profiles'\n",
        "        if not all(isinstance(fprofile, cls) for fprofile in fprofiles):\n",
        "            raise ValueError('All items in sequence must be of type {}'.format(cls.__name__))\n",
        "        Blood_group_count = Counter(fprofile.blood_group for fprofile in fprofiles)\n",
        "        return max(Blood_group_count, key=Blood_group_count.get)\n",
        "\n",
        "Fprofile.__doc__ = 'Profile of Employees/User'\n",
        "Fprofile.name.__doc__ = 'Name of Employees/User '\n",
        "Fprofile.sex.__doc__ = 'Sex of Employees/User'\n",
        "Fprofile.birthdate.__doc__ = 'Date of birth of Employees/User'\n",
        "Fprofile.blood_group.__doc__ = 'Blood group of Employees/User'\n",
        "Fprofile.current_location.__doc__ = 'Current location of Employees/User'"
      ],
      "execution_count": 14,
      "outputs": []
    },
    {
      "cell_type": "code",
      "metadata": {
        "id": "zooyPewY0hik"
      },
      "source": [
        "def function_profile_creation(count: \"Number of profile to be created using faker\"):\n",
        "    \"Returns  profile stored in named tuple and dictionary in list for user defined count\"\n",
        "    LIST_tuple = []\n",
        "    LIST_dict = []\n",
        "    for n in range(count):\n",
        "        x = fake.profile()\n",
        "        # Tuple based\n",
        "        LIST_tuple.append(Fprofile(x['name'], x['sex'], x['birthdate'], x['blood_group'], x['current_location']))\n",
        "        # Dictionary based\n",
        "        LIST_dict.append({'name': x['name'], 'sex': x['sex'], 'birthdate': x['birthdate'], 'blood_group': x['blood_group'],'current_location': x['current_location']})\n",
        "    return tuple(LIST_tuple), LIST_dict"
      ],
      "execution_count": 15,
      "outputs": []
    },
    {
      "cell_type": "code",
      "metadata": {
        "id": "bQQYj4Ie0hHF"
      },
      "source": [
        "def function_profile_data_tuple_process(LIST: \"List of Named tuple\"):\n",
        "    \"\"\"\n",
        "    This function returns following for given list of profiles stores in Namedtuple\n",
        "    - Average age in given set of profiles\n",
        "    - Age of oldest person in given set of profiles\n",
        "    -mean location of  in given set of profiles\n",
        "    -largest_blood_type  in given set of profiles\n",
        "    \"\"\"\n",
        "    average_age = Fprofile.aver_age(LIST)\n",
        "    oldest_person_age = Fprofile.max_age(LIST)\n",
        "    mean_current_location = Fprofile.mean_current_location(LIST)\n",
        "    largest_blood_type = Fprofile.largest_blood_type(LIST)\n",
        "    return average_age, oldest_person_age, mean_current_location, largest_blood_type"
      ],
      "execution_count": 16,
      "outputs": []
    },
    {
      "cell_type": "code",
      "metadata": {
        "id": "urJ1x6Xt1HN6"
      },
      "source": [
        "def function_profile_data_dict_process(LIST_d: \"List of dictionary\"):\n",
        "    \"\"\"\n",
        "    This function returns following for given list of profiles stores in Dictionary\n",
        "    - Average age in given set of profiles\n",
        "    - Age of oldest person in given set of profiles\n",
        "    -mean location of  in given set of profiles\n",
        "    -largest_blood_type  in given set of profiles\n",
        "    \"\"\"\n",
        "    oldest_person_age_d = 0\n",
        "    blood_group_count_d = {'O+': 0, 'B-': 0, 'AB+': 0, 'B+': 0, 'O-': 0, 'AB-': 0, 'A-': 0, 'A+': 0}\n",
        "    average_age_d = 0\n",
        "    mean_current_location_d = (0, 0)\n",
        "    average_age_d = 0\n",
        "    Num_profile = len(LIST_d)\n",
        "    for n in range(Num_profile):\n",
        "        ##Max age\n",
        "        age = calculateage(LIST_d[n]['birthdate'])\n",
        "        oldest_person_age_d = max(oldest_person_age_d, age)\n",
        "        ##average age\n",
        "        age = calculateage(LIST_d[n]['birthdate'])\n",
        "        average_age_d = (average_age_d * n + age) / (n + 1)\n",
        "        ##mean_current_location\n",
        "        mean_current_location_d = Decimal(\n",
        "            (mean_current_location_d[0] * n + LIST_d[n]['current_location'][0]) / (n + 1)), Decimal(\n",
        "            (mean_current_location_d[1] * n + LIST_d[n]['current_location'][1]) / (n + 1))\n",
        "        ###Max Blood group\n",
        "        blood_group_count_d[LIST_d[n]['blood_group']] = blood_group_count_d[LIST_d[n]['blood_group']] + 1\n",
        "    largest_blood_type_d = (max(blood_group_count_d.items(), key=operator.itemgetter(1))[0])\n",
        "    return average_age_d, oldest_person_age_d, mean_current_location_d, largest_blood_type_d"
      ],
      "execution_count": 17,
      "outputs": []
    },
    {
      "cell_type": "code",
      "metadata": {
        "id": "FQ1vLQG4BpBn"
      },
      "source": [
        "Num_profile=10000\n",
        "Num_run=1000"
      ],
      "execution_count": 18,
      "outputs": []
    },
    {
      "cell_type": "code",
      "metadata": {
        "id": "JfDftlUG1jgf"
      },
      "source": [
        "tuple_NT,LIST_dict=function_profile_creation(Num_profile)\n"
      ],
      "execution_count": 19,
      "outputs": []
    },
    {
      "cell_type": "markdown",
      "metadata": {
        "id": "5rXEpOEAa8lm"
      },
      "source": [
        "Below calculation is for Named Tuple"
      ]
    },
    {
      "cell_type": "code",
      "metadata": {
        "id": "s01llBpyBY7W",
        "outputId": "fdd781c0-7756-4183-828e-62280c308b8f",
        "colab": {
          "base_uri": "https://localhost:8080/",
          "height": 105
        }
      },
      "source": [
        "start1 = time.perf_counter()\n",
        "for n in range(Num_run):    \n",
        "    average_age,oldest_person_age,mean_current_location,largest_blood_type=function_profile_data_tuple_process(tuple_NT)\n",
        "end1 = time.perf_counter()\n",
        "delta1 = (end1-start1)/Num_run\n",
        "print(f\"Average age of list is {average_age:0.2f}\")\n",
        "print(f\"Age of oldest persion is {oldest_person_age} in yrs\")\n",
        "print(f\"Mean average location is {mean_current_location}\")\n",
        "print(f\"Largest blood group type is {largest_blood_type}\")\n",
        "print(f\"Average run Time  is {delta1}\")"
      ],
      "execution_count": 20,
      "outputs": [
        {
          "output_type": "stream",
          "text": [
            "Average age of list is 57.17\n",
            "Age of oldest persion is 115 in yrs\n",
            "Mean average location is (Decimal('-0.8704926053'), Decimal('1.1104459826'))\n",
            "Largest blood group type is B-\n",
            "Average run Time  is 0.04912843786300004\n"
          ],
          "name": "stdout"
        }
      ]
    },
    {
      "cell_type": "markdown",
      "metadata": {
        "id": "oyi-p5qL4U1w"
      },
      "source": [
        "**Below calculation is for Dictionary**"
      ]
    },
    {
      "cell_type": "code",
      "metadata": {
        "id": "ggxlPcmy4Ujf",
        "outputId": "7e9b164a-cba3-4e2e-c4d4-abd6b839c2f4",
        "colab": {
          "base_uri": "https://localhost:8080/",
          "height": 105
        }
      },
      "source": [
        "start2 = time.perf_counter()\n",
        "for n in range(Num_run):\n",
        "    average_age_d,oldest_person_age_d,mean_current_location_d,largest_blood_type_d=function_profile_data_dict_process(LIST_dict)\n",
        "end2 = time.perf_counter()\n",
        "delta2 = (end2-start2)/Num_run\n",
        "print(f\"Average age of list is {average_age_d:0.2f}\")\n",
        "print(f\"Age of oldest persion is {oldest_person_age_d} in yrs\")\n",
        "print(f\"Mean average location is {mean_current_location_d}\")\n",
        "print(f\"Largest blood group type is {largest_blood_type_d}\")\n",
        "print(f\"Average Time Taken  is {delta2}\")"
      ],
      "execution_count": 21,
      "outputs": [
        {
          "output_type": "stream",
          "text": [
            "Average age of list is 57.17\n",
            "Age of oldest persion is 115 in yrs\n",
            "Mean average location is (Decimal('-0.8704926053000000000000000049'), Decimal('1.110445982600000000000000003'))\n",
            "Largest blood group type is B-\n",
            "Average Time Taken  is 0.055151629888\n"
          ],
          "name": "stdout"
        }
      ]
    },
    {
      "cell_type": "code",
      "metadata": {
        "id": "Lowq7Khbmrxs",
        "outputId": "c49f9358-ba56-4735-cdf1-7df1fe8572c4",
        "colab": {
          "base_uri": "https://localhost:8080/",
          "height": 123
        }
      },
      "source": [
        "print(isclose(average_age,average_age_d))\n",
        "print(oldest_person_age==oldest_person_age_d)\n",
        "print(isclose(mean_current_location[0],mean_current_location_d[0]))\n",
        "print(isclose(mean_current_location[1],mean_current_location_d[1]))\n",
        "print(largest_blood_type==largest_blood_type_d)\n",
        "print(f\"Named tuple is faster than dictionary by  {((delta2/delta1-1)*100):0.2f}% \")"
      ],
      "execution_count": 22,
      "outputs": [
        {
          "output_type": "stream",
          "text": [
            "True\n",
            "True\n",
            "True\n",
            "True\n",
            "True\n",
            "Named tuple is faster than dictionary by  12.26% \n"
          ],
          "name": "stdout"
        }
      ]
    },
    {
      "cell_type": "markdown",
      "metadata": {
        "id": "Q5z0feojIf_e"
      },
      "source": [
        "***Fake Stock Exchange***"
      ]
    },
    {
      "cell_type": "code",
      "metadata": {
        "id": "c6cFtI98IrTR"
      },
      "source": [
        "Stock_weight_norm=namedtuple('Stock_weight_norm', ('name','nw' ))\n",
        "Stock_weight_norm.__doc__ = 'Stock Weight Details for Day trade'\n",
        "Stock_weight_norm.name.__doc__ = 'Name of Stock'\n",
        "Stock_weight_norm.nw.__doc__ = 'Normilized weight of Stock that day'\n",
        "\n",
        "class Stock(namedtuple('Stock', ('name', 'symbol','open', 'high', 'close','low','weight' ))):\n",
        "    \n",
        "    @classmethod\n",
        "    def normilized_weight(cls,stocks) -> \"returns normalized values for \":\n",
        "        'This class method calculates normalized weights for given set of weights '         \n",
        "        if not all(isinstance(stock, cls) for stock in stocks):\n",
        "            raise ValueError('All items in sequence must be of type {}'.format(cls.__name__))\n",
        "        Total_weight=sum(stock[6] for stock in stocks) \n",
        "        normilized_weights=[Stock_weight_norm(stock.name,(stock.weight/Total_weight)) for stock in stocks]        \n",
        "        return tuple(normilized_weights)\n",
        "\n",
        "    @classmethod\n",
        "    def stock_ex_value(cls,stocks) -> \"returns normalized values for \":\n",
        "        'This class method calculates normalized weights for given set of weights '         \n",
        "        if not all(isinstance(stock, cls) for stock in stocks):\n",
        "            raise ValueError('All items in sequence must be of type {}'.format(cls.__name__))\n",
        "        normilized_weights=cls.normilized_weight(stocks)\n",
        "        Exch_open=sum(s.open*norw.nw if s.name==norw.name else \"error\" for s,norw in zip(stocks,normilized_weights))\n",
        "        Exch_high=sum(s.high*norw.nw if s.name==norw.name else \"error\"for s,norw in zip(stocks,normilized_weights))\n",
        "        Exch_close=sum(s.close*norw.nw if s.name==norw.name else \"error\"for s,norw in zip(stocks,normilized_weights))\n",
        "        Exch_low=sum(s.low*norw.nw if s.name==norw.name else \"error\"for s,norw in zip(stocks,normilized_weights))        \n",
        "        return Exch_open,Exch_high,Exch_close,Exch_low\n",
        "\n",
        "Stock.__doc__ = 'Stock Detail for Day trade'\n",
        "Stock.name.__doc__ = 'Name of Stock'\n",
        "Stock.symbol.__doc__ = 'symbol of Stock'\n",
        "Stock.open.__doc__ = 'Opening Value of Stock that day'\n",
        "Stock.high.__doc__ = 'highest Value of Stock that day'\n",
        "Stock.close.__doc__ = 'closing highest Value of Stock that day'\n",
        "Stock.low.__doc__ = 'closing lowest Value of Stock that day'\n",
        "Stock.weight.__doc__ = 'weight Stock that day'"
      ],
      "execution_count": 23,
      "outputs": []
    },
    {
      "cell_type": "code",
      "metadata": {
        "id": "xvwHzKfUZZYM",
        "outputId": "d6751a6d-3152-4187-99e3-abc2d3dbedf3",
        "colab": {
          "base_uri": "https://localhost:8080/",
          "height": 1000
        }
      },
      "source": [
        "import random\n",
        "from random  import uniform\n",
        "from random import randint\n",
        "from prettytable import PrettyTable\n",
        "stock_count=100\n",
        "\n",
        "\n",
        "def function_fstock_creation(count: \"Number of stock to be created using faker\"):\n",
        "    \"Returns  profile stored in named tuple in list for user defined count\"\n",
        "    Stock_list=[]\n",
        "    Stock_list_dict=[]\n",
        "    for n in range(stock_count):    \n",
        "        name=fake.company()\n",
        "        symbol=name[:3]\n",
        "        low=uniform(100,5000)\n",
        "        high=uniform(low,5000)    \n",
        "        open=uniform(low,high)    \n",
        "        close=uniform(low,high) \n",
        "        weight=uniform(0.8,1.2)    \n",
        "        Stock_list.append(Stock(name,symbol,open,high,close,low,weight))  \n",
        "        Stock_list_dict.append({\"name\": name,\"symbol\" : symbol,\"open\":open,\"high\":high,\"close\":close,\"low\":low,\"weight\":weight})  \n",
        "    return tuple(Stock_list),Stock_list_dict\n",
        "\n",
        "\n",
        "Stock_100,Stock_list_dic=function_fstock_creation(100)\n",
        "    \n",
        "\n",
        "nw_tab=Stock.normilized_weight(Stock_100)\n",
        "Exch_open,Exch_high,Exch_close,Exch_low=Stock.stock_ex_value(Stock_100)\n",
        "\n",
        "\n",
        "P_Table=PrettyTable(['name', 'symbol','open', 'high', 'close','low','weight',\"Nor_Weight\",\"c_open\",\"c_high\",\"c_close\",\"c_low\"])       \n",
        "\n",
        "Exch_open1,Exch_high1,Exch_close1,Exch_low1=0,0,0,0\n",
        "\n",
        "for n in range(stock_count):\n",
        "    P_Table.add_row([Stock_100[n][0],Stock_100[n][1],Stock_100[n][2],round(Stock_100[n][3],2),round(Stock_100[n][4],2),round(Stock_100[n][5],2),round(Stock_100[n][6],2),\n",
        "                    round(nw_tab[n][1],2),round(Stock_100[n][2]*nw_tab[n][1],2),round(Stock_100[n][3]*nw_tab[n][1],2),\n",
        "                    round(Stock_100[n][4]*nw_tab[n][1],2),round(Stock_100[n][5]*nw_tab[n][1],2)])\n",
        "    Exch_open1+=Stock_100[n][2]*nw_tab[n][1]\n",
        "    Exch_high1+=Stock_100[n][3]*nw_tab[n][1]\n",
        "    Exch_close1+=Stock_100[n][4]*nw_tab[n][1]\n",
        "    Exch_low1+=Stock_100[n][5]*nw_tab[n][1]\n",
        "\n",
        "P_Table.add_row([\"-\",\"-\",\"-\",\"-\",\"-\",\"-\",\"-\",\"Total=\",round(Exch_open,3),round(Exch_high,3),round(Exch_close,3),round(Exch_low,3)])\n",
        "\n",
        "\n",
        "\n",
        "\n",
        "print(\"Stock Markert Day stats\") \n",
        "print(P_Table)\n",
        "\n",
        "print(f\"Test-{isclose(Exch_open,Exch_open1)},{isclose(Exch_high,Exch_high1)},{isclose(Exch_close,Exch_close1)},{isclose(Exch_low,Exch_low1)}\")\n",
        "\n",
        "\n"
      ],
      "execution_count": 24,
      "outputs": [
        {
          "output_type": "stream",
          "text": [
            "Stock Markert Day stats\n",
            "+-----------------------------------+--------+--------------------+---------+---------+---------+--------+------------+----------+----------+----------+----------+\n",
            "|                name               | symbol |        open        |   high  |  close  |   low   | weight | Nor_Weight |  c_open  |  c_high  | c_close  |  c_low   |\n",
            "+-----------------------------------+--------+--------------------+---------+---------+---------+--------+------------+----------+----------+----------+----------+\n",
            "|        Lee, Adams and Good        |  Lee   | 1436.2228752268322 | 1445.34 | 1441.65 |  1393.7 |  0.98  |    0.01    |  13.93   |  14.01   |  13.98   |  13.51   |\n",
            "|             Murray PLC            |  Mur   | 2343.4576472580516 | 3847.67 | 2983.97 | 1494.88 |  1.02  |    0.01    |  23.78   |  39.04   |  30.28   |  15.17   |\n",
            "|      Wood, Matthews and Riley     |  Woo   | 2602.731655998591  | 3446.68 | 3159.26 | 1944.46 |  1.06  |    0.01    |  27.25   |  36.08   |  33.07   |  20.35   |\n",
            "|           Cervantes Ltd           |  Cer   | 3178.726153141981  | 3380.56 | 3220.27 | 3058.33 |  0.99  |    0.01    |  31.25   |  33.23   |  31.66   |  30.07   |\n",
            "|             King-Duffy            |  Kin   | 1945.7618350656885 | 2075.22 | 1784.28 | 1490.94 |  0.83  |    0.01    |   16.0   |  17.07   |  14.68   |  12.26   |\n",
            "|           Morgan-Fleming          |  Mor   | 3337.4935408884567 | 3963.77 |  3656.1 |  3228.1 |  1.08  |    0.01    |  35.57   |  42.25   |  38.97   |   34.4   |\n",
            "|           Padilla-Munoz           |  Pad   | 1406.8395914148045 | 3075.81 | 2911.44 |  459.56 |  0.9   |    0.01    |   12.5   |  27.32   |  25.86   |   4.08   |\n",
            "|            Mack-Hughes            |  Mac   | 1713.3691696007907 | 1749.53 | 1744.05 | 1700.91 |  1.09  |    0.01    |  18.52   |  18.91   |  18.85   |  18.39   |\n",
            "|    Zimmerman, Acevedo and Stone   |  Zim   | 3992.099040714638  | 4417.81 | 4022.07 | 3692.43 |  0.85  |    0.01    |  33.47   |  37.04   |  33.72   |  30.96   |\n",
            "|           Lara and Sons           |  Lar   | 4967.542105277228  | 4986.07 | 4979.94 | 4962.82 |  1.0   |    0.01    |  49.18   |  49.36   |   49.3   |  49.13   |\n",
            "|     Hunt, Walters and Hawkins     |  Hun   | 1151.9952999715244 | 1611.48 | 1092.58 |  982.6  |  0.92  |    0.01    |  10.49   |  14.68   |   9.95   |   8.95   |\n",
            "|             Allen PLC             |  All   | 4335.801583368547  | 4607.31 | 4348.73 |  4254.6 |  0.85  |    0.01    |  36.59   |  38.88   |   36.7   |   35.9   |\n",
            "|            Hamilton LLC           |  Ham   | 4006.2518035059998 | 4161.65 | 2763.82 |  2486.9 |  1.07  |    0.01    |  42.43   |  44.07   |  29.27   |  26.34   |\n",
            "|            Nichols LLC            |  Nic   | 2608.475560793828  | 4343.07 | 3779.41 |  559.93 |  0.98  |    0.01    |  25.25   |  42.04   |  36.58   |   5.42   |\n",
            "|          Parsons and Sons         |  Par   | 4210.971832478809  | 4648.93 | 3475.84 | 3024.73 |  0.99  |    0.01    |  41.14   |  45.42   |  33.96   |  29.55   |\n",
            "|            Hamilton Ltd           |  Ham   | 2807.8400008908484 | 4497.23 | 3129.48 | 2118.21 |  1.08  |    0.01    |   30.1   |   48.2   |  33.54   |   22.7   |\n",
            "|     Rodriguez, King and Miller    |  Rod   | 3079.4197332753192 | 3270.69 | 1432.52 |  1329.7 |  1.02  |    0.01    |  31.19   |  33.13   |  14.51   |  13.47   |\n",
            "|      Singh, Torres and Wright     |  Sin   | 3405.2391077514844 | 4289.61 | 4232.86 | 3357.56 |  1.11  |    0.01    |  37.48   |  47.21   |  46.59   |  36.96   |\n",
            "|     Guerra, Taylor and French     |  Gue   | 3811.6932326299693 | 3951.34 |  3788.5 | 3472.57 |  0.87  |    0.01    |  32.98   |  34.19   |  32.78   |  30.05   |\n",
            "|      Clark, Lewis and Montoya     |  Cla   | 4328.935126217916  | 4875.45 | 4276.49 | 4146.93 |  1.19  |    0.01    |  50.84   |  57.26   |  50.22   |   48.7   |\n",
            "|             Brown PLC             |  Bro   |   4988.817965084   |  4999.2 | 4967.22 | 4964.68 |  0.88  |    0.01    |  43.48   |  43.57   |  43.29   |  43.27   |\n",
            "|             Lloyd-Rush            |  Llo   | 1102.328753673754  | 3148.67 | 1836.72 |  595.65 |  1.04  |    0.01    |  11.31   |  32.32   |  18.85   |   6.11   |\n",
            "|             Porter LLC            |  Por   | 4139.141741932616  | 4175.58 | 3820.94 | 3769.59 |  1.2   |    0.01    |  49.12   |  49.55   |  45.34   |  44.73   |\n",
            "|         Martinez-Alexander        |  Mar   | 2749.804566577367  | 4208.21 | 3000.55 | 2683.42 |  1.06  |    0.01    |  28.91   |  44.24   |  31.54   |  28.21   |\n",
            "|          Cunningham-Smith         |  Cun   | 4208.652086553802  | 4591.89 | 2957.58 | 2712.14 |  1.01  |    0.01    |  42.26   |  46.11   |   29.7   |  27.23   |\n",
            "|      Powell, Carter and Soto      |  Pow   | 4964.008273401909  | 4986.97 | 4925.58 | 4855.92 |  1.16  |    0.01    |   56.8   |  57.06   |  56.36   |  55.56   |\n",
            "|          Stevens-Everett          |  Ste   | 2416.9308014572257 | 3028.48 | 2274.71 | 1191.74 |  0.91  |    0.01    |  21.78   |  27.29   |   20.5   |  10.74   |\n",
            "|            Gonzalez Ltd           |  Gon   | 3124.720140248426  | 3829.76 | 3777.16 | 2363.22 |  0.81  |    0.01    |  24.95   |  30.58   |  30.16   |  18.87   |\n",
            "|            Lindsey Ltd            |  Lin   |  4484.9619468576   | 4527.72 | 4478.65 | 4377.74 |  1.01  |    0.01    |  44.71   |  45.14   |  44.65   |  43.64   |\n",
            "|       Jacobs, Webb and Mckay      |  Jac   | 4835.604041202952  | 4919.84 | 3495.84 | 3241.24 |  1.06  |    0.01    |  50.62   |   51.5   |   36.6   |  33.93   |\n",
            "|            Newman-Henry           |  New   | 2008.251930254772  | 4095.91 | 2399.09 | 2000.46 |  0.82  |    0.01    |  16.26   |  33.17   |  19.43   |   16.2   |\n",
            "|    Williams, Anderson and Webb    |  Wil   | 4015.4890811862197 |  4040.9 | 4019.25 | 3950.64 |  0.86  |    0.01    |  34.24   |  34.45   |  34.27   |  33.68   |\n",
            "|            Vincent-Shaw           |  Vin   | 3612.9018463767775 | 3726.25 | 3627.74 | 3471.24 |  1.12  |    0.01    |  39.96   |  41.21   |  40.12   |  38.39   |\n",
            "|     Wade, Shelton and Jackson     |  Wad   | 4075.090862530513  | 4235.97 | 4215.84 | 3860.97 |  1.0   |    0.01    |  40.25   |  41.84   |  41.64   |  38.14   |\n",
            "|         Rodriguez-Mitchell        |  Rod   | 4347.453117588753  | 4482.62 | 4322.35 | 4312.97 |  1.19  |    0.01    |  51.12   |  52.71   |  50.83   |  50.71   |\n",
            "|   Wallace, Martinez and Schmidt   |  Wal   | 3315.6079170508856 | 4268.52 | 3452.38 | 1672.39 |  0.81  |    0.01    |  26.57   |  34.21   |  27.67   |   13.4   |\n",
            "|            Green-Vaughn           |  Gre   | 2032.0915051827315 | 3020.11 | 2051.87 | 1479.11 |  0.83  |    0.01    |  16.69   |   24.8   |  16.85   |  12.15   |\n",
            "|            Quinn-Chavez           |  Qui   | 3616.5392761381763 | 4024.37 | 3544.23 |  3455.4 |  0.88  |    0.01    |  31.61   |  35.18   |  30.98   |   30.2   |\n",
            "|         Mccullough-Stokes         |  Mcc   | 3090.801130645711  | 3508.99 | 3398.35 | 3036.89 |  1.04  |    0.01    |   31.7   |  35.99   |  34.86   |  31.15   |\n",
            "|     Stevenson, Hill and Foley     |  Ste   |  3029.52782044727  | 4491.59 | 4420.82 |  2409.4 |  1.17  |    0.01    |  35.06   |  51.98   |  51.16   |  27.88   |\n",
            "|      Rogers, Lewis and Thomas     |  Rog   | 3310.1057925211167 | 3958.53 | 1463.13 |  1111.5 |  1.17  |    0.01    |  38.35   |  45.86   |  16.95   |  12.88   |\n",
            "|    Craig, Parker and Fitzgerald   |  Cra   | 4344.866389705382  | 4354.42 | 4312.97 |  4308.3 |  1.17  |    0.01    |  50.24   |  50.35   |  49.87   |  49.81   |\n",
            "|           Mendoza-Riley           |  Men   | 2405.366339861259  |  2418.2 | 1073.73 |  494.35 |  0.82  |    0.01    |  19.55   |  19.65   |   8.73   |   4.02   |\n",
            "|             Perez PLC             |  Per   | 3716.526416235897  | 4529.95 | 4216.75 | 2705.07 |  1.12  |    0.01    |  41.23   |  50.25   |  46.77   |  30.01   |\n",
            "|            Ramos-Gates            |  Ram   | 2055.0223454386482 | 2788.26 | 2167.55 |  424.3  |  0.95  |    0.01    |  19.42   |  26.34   |  20.48   |   4.01   |\n",
            "|       Hale, Booth and Brown       |  Hal   | 3653.0434313809005 | 4193.72 | 3623.57 | 3436.91 |  1.12  |    0.01    |  40.44   |  46.42   |  40.11   |  38.05   |\n",
            "|      Boyd, Cruz and Reynolds      |  Boy   | 4472.595867925802  |  4751.5 | 4750.72 | 4349.61 |  0.82  |    0.01    |  36.18   |  38.44   |  38.43   |  35.19   |\n",
            "|             Potter Inc            |  Pot   | 2505.6483726166116 |  2567.8 | 1826.18 |  933.51 |  0.8   |    0.01    |  19.86   |  20.35   |  14.47   |   7.4    |\n",
            "|            Osborne Ltd            |  Osb   | 4535.061400628217  | 4562.92 | 4538.56 | 4524.61 |  0.85  |    0.01    |  37.98   |  38.21   |  38.01   |  37.89   |\n",
            "|       Diaz, Davis and Jones       |  Dia   | 1063.2520524652214 | 1165.47 |  986.48 |  728.22 |  1.02  |    0.01    |  10.79   |  11.83   |  10.01   |   7.39   |\n",
            "|             Love Group            |  Lov   | 3180.4762431992963 | 3287.99 | 3198.21 | 3107.33 |  1.17  |    0.01    |  36.84   |  38.09   |  37.05   |   36.0   |\n",
            "|           Foster-Hammond          |  Fos   | 3846.323239090516  | 3957.74 | 3695.34 | 3614.91 |  1.14  |    0.01    |  43.27   |  44.52   |  41.57   |  40.67   |\n",
            "|     Miller, Wallace and Moyer     |  Mil   | 2427.3613491552915 | 2689.99 | 2146.68 | 2061.08 |  1.14  |    0.01    |  27.38   |  30.34   |  24.21   |  23.25   |\n",
            "|         Wilkinson and Sons        |  Wil   | 3971.3090288485864 | 4399.85 | 3152.12 | 2779.66 |  1.15  |    0.01    |  45.27   |  50.15   |  35.93   |  31.68   |\n",
            "|             Barron PLC            |  Bar   | 1954.514229064905  | 3687.82 |  785.85 |  325.59 |  1.03  |    0.01    |  19.87   |  37.49   |   7.99   |   3.31   |\n",
            "|        Cook, Colon and Cole       |  Coo   | 4090.4582457576544 | 4716.88 | 2950.44 | 2082.77 |  1.2   |    0.01    |  48.61   |  56.05   |  35.06   |  24.75   |\n",
            "|            Arnold-Terry           |  Arn   | 1003.9046073014526 | 1264.51 | 1167.75 |  418.43 |  0.96  |    0.01    |   9.58   |  12.06   |  11.14   |   3.99   |\n",
            "|     Harrell, Powers and Rivera    |  Har   | 4735.167758819692  | 4738.27 | 4724.46 | 4721.87 |  1.18  |    0.01    |  55.47   |   55.5   |  55.34   |  55.31   |\n",
            "|     Sanchez, Shannon and Lewis    |  San   | 4052.8137379596783 | 4395.33 | 3664.57 |  3582.4 |  1.04  |    0.01    |  41.62   |  45.14   |  37.63   |  36.79   |\n",
            "|            Williams Inc           |  Wil   | 3066.4506276661955 | 4255.37 | 3176.06 | 2860.34 |  1.12  |    0.01    |  33.96   |  47.13   |  35.18   |  31.68   |\n",
            "|          Romero and Sons          |  Rom   | 3685.398267805085  | 4525.03 | 3737.04 | 2978.27 |  0.9   |    0.01    |  32.69   |  40.14   |  33.15   |  26.42   |\n",
            "|          Clements-Monroe          |  Cle   | 4716.940978664362  | 4820.18 | 4668.12 | 4614.54 |  0.8   |    0.01    |  37.43   |  38.25   |  37.05   |  36.62   |\n",
            "|      Johnson, Walsh and Tran      |  Joh   | 4230.9823657693405 | 4359.43 | 4340.55 |  3909.7 |  1.19  |    0.01    |  49.98   |   51.5   |  51.27   |  46.18   |\n",
            "|    Greer, Rodriguez and Acosta    |  Gre   | 907.8126881710883  | 4078.35 | 3149.91 |  903.78 |  1.02  |    0.01    |   9.13   |  41.02   |  31.68   |   9.09   |\n",
            "|            Pearson Inc            |  Pea   | 4255.624534380065  | 4296.87 | 3942.54 | 3801.68 |  0.9   |    0.01    |  37.99   |  38.35   |  35.19   |  33.93   |\n",
            "|         Peterson-Williams         |  Pet   | 2416.1560005838965 |  3087.3 | 2262.79 | 1749.32 |  1.04  |    0.01    |  24.96   |  31.89   |  23.38   |  18.07   |\n",
            "|          Flores and Sons          |  Flo   | 2852.2171517982456 | 4835.14 | 3951.54 | 1760.91 |  0.82  |    0.01    |  23.23   |  39.38   |  32.18   |  14.34   |\n",
            "|          Andrade-Sanders          |  And   | 814.4380037200085  | 1012.23 |  761.72 |  684.59 |  0.92  |    0.01    |   7.38   |   9.18   |   6.91   |   6.21   |\n",
            "|             Clark Ltd             |  Cla   | 2267.9564238930307 | 2274.07 | 1916.95 |  1574.3 |  1.2   |    0.01    |  26.86   |  26.93   |   22.7   |  18.65   |\n",
            "|           Barnett-George          |  Bar   | 2980.8382348542596 | 4398.85 | 4080.96 |  932.47 |  1.08  |    0.01    |  31.93   |  47.12   |  43.71   |   9.99   |\n",
            "|             Smith LLC             |  Smi   | 4176.555522621241  | 4850.54 |  3239.7 | 3198.03 |  1.17  |    0.01    |  48.26   |  56.05   |  37.44   |  36.96   |\n",
            "|            Holland PLC            |  Hol   | 3297.326046884344  | 4051.33 | 3153.14 | 3094.41 |  1.19  |    0.01    |  38.83   |  47.71   |  37.13   |  36.44   |\n",
            "|            Edwards LLC            |  Edw   | 4848.075313727035  | 4856.35 | 4694.71 | 3897.52 |  0.89  |    0.01    |  42.91   |  42.98   |  41.55   |  34.49   |\n",
            "|             Carey Ltd             |  Car   | 4307.794907555259  | 4441.58 | 4414.46 | 4273.38 |  0.86  |    0.01    |  36.59   |  37.73   |   37.5   |   36.3   |\n",
            "|     Morgan, Watson and Michael    |  Mor   | 2231.1975916399992 | 2987.51 | 2613.03 | 1776.96 |  0.92  |    0.01    |  20.25   |  27.12   |  23.72   |  16.13   |\n",
            "|            Ortiz-Smith            |  Ort   | 3916.1015616186287 | 4385.44 | 3683.37 | 3575.22 |  0.9   |    0.01    |  34.86   |  39.04   |  32.79   |  31.83   |\n",
            "|     Hernandez, Park and Miller    |  Her   | 4225.771908607225  |  4645.5 | 4082.82 | 3507.84 |  1.15  |    0.01    |  48.18   |  52.96   |  46.55   |  39.99   |\n",
            "|          Lawrence-Stevens         |  Law   | 2740.6594613956277 | 3000.39 | 2942.49 | 2349.55 |  0.98  |    0.01    |  26.47   |  28.98   |  28.42   |  22.69   |\n",
            "|       Boyd, Wallace and Shah      |  Boy   | 2098.7349545938227 | 2115.28 | 2091.89 | 1823.03 |  1.01  |    0.01    |  21.01   |  21.17   |  20.94   |  18.25   |\n",
            "|             Garcia Ltd            |  Gar   | 3270.2705910055615 | 4786.92 |  3579.4 | 1029.82 |  1.16  |    0.01    |  37.55   |  54.96   |   41.1   |  11.82   |\n",
            "|          Forbes-Anderson          |  For   | 4541.276517124574  | 4886.82 | 4863.46 | 4450.63 |  1.11  |    0.01    |  50.04   |  53.85   |  53.59   |  49.04   |\n",
            "|          Whitehead-Taylor         |  Whi   | 4589.216288407218  | 4614.27 | 4600.46 | 4580.02 |  0.91  |    0.01    |  41.46   |  41.69   |  41.56   |  41.38   |\n",
            "|           Thompson-Ford           |  Tho   | 3225.248373969952  | 4728.11 | 1781.94 | 1583.42 |  1.1   |    0.01    |  35.04   |  51.37   |  19.36   |   17.2   |\n",
            "|            Smith-Clark            |  Smi   | 370.18273183278694 | 1436.48 |  847.09 |  143.26 |  1.1   |    0.01    |   4.03   |  15.62   |   9.21   |   1.56   |\n",
            "|     Horton, Hernandez and Reed    |  Hor   | 4415.766964918659  | 4964.73 | 4761.28 | 4291.96 |  0.85  |    0.01    |  37.03   |  41.63   |  39.93   |  35.99   |\n",
            "|      Duarte, Hughes and Olson     |  Dua   | 3021.725817153313  | 3088.43 | 2524.26 | 1607.78 |  0.82  |    0.01    |  24.53   |  25.07   |  20.49   |  13.05   |\n",
            "|          Lawrence-Leblanc         |  Law   | 1165.634282995723  | 1190.79 | 1137.98 |  584.31 |  0.8   |    0.01    |   9.25   |   9.45   |   9.03   |   4.64   |\n",
            "|      Ochoa, Smith and Parker      |  Och   | 1752.542768306515  | 4840.93 | 3718.95 |  883.63 |  0.94  |    0.01    |  16.25   |  44.88   |  34.48   |   8.19   |\n",
            "|       Cruz, Perry and Vaughn      |  Cru   | 3770.634752752936  | 4931.67 | 3917.14 | 2939.29 |  1.0   |    0.01    |  37.17   |  48.61   |  38.61   |  28.97   |\n",
            "|           Mason-Jackson           |  Mas   | 4501.588384434364  | 4737.58 | 4529.78 |  228.83 |  1.13  |    0.01    |  50.43   |  53.08   |  50.75   |   2.56   |\n",
            "|    Blair, Reynolds and Gonzalez   |  Bla   | 647.7515240400019  | 2196.49 | 1779.62 |  433.65 |  1.15  |    0.01    |   7.39   |  25.07   |  20.31   |   4.95   |\n",
            "| Fitzpatrick, Walters and Sandoval |  Fit   | 3665.246084274919  | 4609.26 | 4587.66 | 3181.53 |  0.82  |    0.01    |  29.71   |  37.36   |  37.19   |  25.79   |\n",
            "|          Arnold and Sons          |  Arn   | 3291.6181889383097 | 3617.54 | 3457.96 | 3110.45 |  1.18  |    0.01    |  38.45   |  42.26   |   40.4   |  36.34   |\n",
            "|      Sanders, Guerra and Rios     |  San   | 4153.540578654244  |  4163.5 | 4124.12 | 4071.06 |  1.12  |    0.01    |   46.2   |  46.31   |  45.87   |  45.28   |\n",
            "|              Lutz LLC             |  Lut   | 4323.632307388799  | 4712.87 |  4007.1 | 3863.02 |  0.87  |    0.01    |  37.14   |  40.48   |  34.42   |  33.18   |\n",
            "|          Valenzuela-Rush          |  Val   | 4379.519890851435  | 4628.24 | 4213.21 | 3998.34 |  1.06  |    0.01    |  45.82   |  48.42   |  44.08   |  41.83   |\n",
            "|    Sandoval, Gomez and Gonzales   |  San   | 4757.193949439139  | 4814.27 | 4381.37 | 4380.35 |  1.12  |    0.01    |  52.87   |   53.5   |  48.69   |  48.68   |\n",
            "|           Mcknight-Roach          |  Mck   | 4845.371737271465  | 4899.62 | 4853.55 | 4778.25 |  1.09  |    0.01    |  52.33   |  52.91   |  52.42   |   51.6   |\n",
            "|          Campbell-Mendoza         |  Cam   | 708.7451078320292  | 2583.92 |  761.99 |  584.2  |  1.0   |    0.01    |   6.99   |  25.48   |   7.51   |   5.76   |\n",
            "|     Brown, Manning and Sweeney    |  Bro   | 4195.435637208351  | 4445.84 | 4028.74 | 3752.17 |  1.07  |    0.01    |  44.33   |  46.97   |  42.57   |  39.64   |\n",
            "|                 -                 |   -    |         -          |    -    |    -    |    -    |   -    |   Total=   | 3276.169 | 3872.986 | 3279.029 | 2644.697 |\n",
            "+-----------------------------------+--------+--------------------+---------+---------+---------+--------+------------+----------+----------+----------+----------+\n",
            "Test-True,True,True,True\n"
          ],
          "name": "stdout"
        }
      ]
    },
    {
      "cell_type": "code",
      "metadata": {
        "id": "9ZRjuUuQgM0C"
      },
      "source": [
        ""
      ],
      "execution_count": 24,
      "outputs": []
    }
  ]
}