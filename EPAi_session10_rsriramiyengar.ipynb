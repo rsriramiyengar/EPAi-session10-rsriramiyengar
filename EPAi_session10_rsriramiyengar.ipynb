{
  "nbformat": 4,
  "nbformat_minor": 0,
  "metadata": {
    "colab": {
      "name": "EPAi-session10-rsriramiyengar.ipynb",
      "provenance": [],
      "collapsed_sections": [],
      "authorship_tag": "ABX9TyPQURRENggtWFMHyS9Je+9F",
      "include_colab_link": true
    },
    "kernelspec": {
      "name": "python3",
      "display_name": "Python 3"
    }
  },
  "cells": [
    {
      "cell_type": "markdown",
      "metadata": {
        "id": "view-in-github",
        "colab_type": "text"
      },
      "source": [
        "<a href=\"https://colab.research.google.com/github/rsriramiyengar/EPAi-session10-rsriramiyengar/blob/master/EPAi_session10_rsriramiyengar.ipynb\" target=\"_parent\"><img src=\"https://colab.research.google.com/assets/colab-badge.svg\" alt=\"Open In Colab\"/></a>"
      ]
    },
    {
      "cell_type": "markdown",
      "metadata": {
        "id": "cwLSTiEN0_LM"
      },
      "source": [
        "**Assignment for Session 10 - Tuples & Named Tuples and Modules**"
      ]
    },
    {
      "cell_type": "code",
      "metadata": {
        "id": "Y3sj179w06Ex",
        "outputId": "23efe2bc-ffbf-4e6a-ae8b-6d3482e81369",
        "colab": {
          "base_uri": "https://localhost:8080/",
          "height": 87
        }
      },
      "source": [
        "!pip install Faker\n",
        "from collections import namedtuple\n",
        "from faker import Faker\n",
        "import datetime\n",
        "from datetime import date \n",
        "from datetime import time \n",
        "import operator \n",
        "fake = Faker()\n",
        "from decimal import Decimal\n",
        "from decimal import getcontext\n",
        "import decimal\n",
        "import contextlib \n",
        "import time\n",
        "from collections import Counter\n",
        "import math\n",
        "from math import isclose\n",
        "\n",
        "import random\n",
        "from random  import uniform\n",
        "from random import randint\n",
        "from prettytable import PrettyTable\n",
        "\n",
        "\n"
      ],
      "execution_count": 1,
      "outputs": [
        {
          "output_type": "stream",
          "text": [
            "Requirement already satisfied: Faker in /usr/local/lib/python3.6/dist-packages (4.1.3)\n",
            "Requirement already satisfied: python-dateutil>=2.4 in /usr/local/lib/python3.6/dist-packages (from Faker) (2.8.1)\n",
            "Requirement already satisfied: text-unidecode==1.3 in /usr/local/lib/python3.6/dist-packages (from Faker) (1.3)\n",
            "Requirement already satisfied: six>=1.5 in /usr/local/lib/python3.6/dist-packages (from python-dateutil>=2.4->Faker) (1.15.0)\n"
          ],
          "name": "stdout"
        }
      ]
    },
    {
      "cell_type": "code",
      "metadata": {
        "id": "LMe5SG061Pky"
      },
      "source": [
        "def calculateage(birthDate: \"date of birthof person\") -> \"Returns Age in years\":\n",
        "    today = date.today()\n",
        "    age = today.year - birthDate.year - ((today.month, today.day) < (birthDate.month, birthDate.day))\n",
        "    return age\n",
        "\n",
        "class Fprofile(namedtuple('Fprofile', ('name', 'sex', 'birthdate', 'blood_group', 'current_location'))):\n",
        "    @classmethod\n",
        "    def calculateage(cls, fprofile) -> \"Returns Age in years\":\n",
        "        'This class method calculates age of given list of profile'\n",
        "        birthDate = fprofile.birthdate\n",
        "        today = date.today()\n",
        "        age = today.year - birthDate.year - ((today.month, today.day) < (birthDate.month, birthDate.day))\n",
        "        return age\n",
        "\n",
        "    @classmethod\n",
        "    def aver_age(cls, fprofiles) -> 'This class method calculates average age of given list of profiles':\n",
        "        'This class method calculates average age of given list of profiles'\n",
        "        if not all(isinstance(fprofile, cls) for fprofile in fprofiles):\n",
        "            raise ValueError('All items in sequence must be of type {}'.format(cls.__name__))\n",
        "        return sum(cls.calculateage(fprofile) for fprofile in fprofiles) / len(fprofiles)\n",
        "\n",
        "    @classmethod\n",
        "    def max_age(cls, fprofiles) -> \"Returns Max age of given list of profiles\":\n",
        "        'This class method calculates max age of given list of profiles'\n",
        "        if not all(isinstance(fprofile, cls) for fprofile in fprofiles):\n",
        "            raise ValueError('All items in sequence must be of type {}'.format(cls.__name__))\n",
        "        return max(cls.calculateage(fprofile) for fprofile in fprofiles)\n",
        "\n",
        "    @classmethod\n",
        "    def mean_current_location(cls, fprofiles) -> \"Returns Mean current Location of given list of profiles\":\n",
        "        \"Returns Mean current Location of given list of profiles\"\n",
        "        if not all(isinstance(fprofile, cls) for fprofile in fprofiles):\n",
        "            raise ValueError('All items in sequence must be of type {}'.format(cls.__name__))\n",
        "        mean_lat = sum(fprofile.current_location[0] for fprofile in fprofiles) / len(fprofiles)\n",
        "        mean_long = sum(fprofile.current_location[1] for fprofile in fprofiles) / len(fprofiles)\n",
        "        return (mean_lat, mean_long)\n",
        "\n",
        "    @classmethod\n",
        "    def largest_blood_type(cls, fprofiles) -> \"Returns Largest Blood Group of given list of profiles\":\n",
        "        'This class method returns largest blood group of given list of profiles'\n",
        "        if not all(isinstance(fprofile, cls) for fprofile in fprofiles):\n",
        "            raise ValueError('All items in sequence must be of type {}'.format(cls.__name__))\n",
        "        Blood_group_count = Counter(fprofile.blood_group for fprofile in fprofiles)\n",
        "        return max(Blood_group_count, key=Blood_group_count.get)\n",
        "\n",
        "Fprofile.__doc__ = 'Profile of Employees/User'\n",
        "Fprofile.name.__doc__ = 'Name of Employees/User '\n",
        "Fprofile.sex.__doc__ = 'Sex of Employees/User'\n",
        "Fprofile.birthdate.__doc__ = 'Date of birth of Employees/User'\n",
        "Fprofile.blood_group.__doc__ = 'Blood group of Employees/User'\n",
        "Fprofile.current_location.__doc__ = 'Current location of Employees/User'"
      ],
      "execution_count": 2,
      "outputs": []
    },
    {
      "cell_type": "code",
      "metadata": {
        "id": "zooyPewY0hik"
      },
      "source": [
        "def function_profile_creation(count: \"Number of profile to be created using faker\"):\n",
        "    \"Returns  profile stored in named tuple and dictionary in list for user defined count\"\n",
        "    LIST_tuple = []\n",
        "    LIST_dict = []\n",
        "    for n in range(count):\n",
        "        x = fake.profile()\n",
        "        # Tuple based\n",
        "        LIST_tuple.append(Fprofile(x['name'], x['sex'], x['birthdate'], x['blood_group'], x['current_location']))\n",
        "        # Dictionary based\n",
        "        LIST_dict.append({'name': x['name'], 'sex': x['sex'], 'birthdate': x['birthdate'], 'blood_group': x['blood_group'],'current_location': x['current_location']})\n",
        "    return LIST_tuple, LIST_dict"
      ],
      "execution_count": 3,
      "outputs": []
    },
    {
      "cell_type": "code",
      "metadata": {
        "id": "bQQYj4Ie0hHF"
      },
      "source": [
        "def function_profile_data_tuple_process(LIST: \"List of Named tuple\"):\n",
        "    \"\"\"\n",
        "    This function returns following for given list of profiles stores in Namedtuple\n",
        "    - Average age in given set of profiles\n",
        "    - Age of oldest person in given set of profiles\n",
        "    -mean location of  in given set of profiles\n",
        "    -largest_blood_type  in given set of profiles\n",
        "    \"\"\"\n",
        "    average_age = Fprofile.aver_age(LIST)\n",
        "    oldest_person_age = Fprofile.max_age(LIST)\n",
        "    mean_current_location = Fprofile.mean_current_location(LIST)\n",
        "    largest_blood_type = Fprofile.largest_blood_type(LIST)\n",
        "    return average_age, oldest_person_age, mean_current_location, largest_blood_type"
      ],
      "execution_count": 4,
      "outputs": []
    },
    {
      "cell_type": "code",
      "metadata": {
        "id": "urJ1x6Xt1HN6"
      },
      "source": [
        "def function_profile_data_dict_process(LIST_d: \"List of dictionary\"):\n",
        "    \"\"\"\n",
        "    This function returns following for given list of profiles stores in Dictionary\n",
        "    - Average age in given set of profiles\n",
        "    - Age of oldest person in given set of profiles\n",
        "    -mean location of  in given set of profiles\n",
        "    -largest_blood_type  in given set of profiles\n",
        "    \"\"\"\n",
        "    oldest_person_age_d = 0\n",
        "    blood_group_count_d = {'O+': 0, 'B-': 0, 'AB+': 0, 'B+': 0, 'O-': 0, 'AB-': 0, 'A-': 0, 'A+': 0}\n",
        "    average_age_d = 0\n",
        "    mean_current_location_d = (0, 0)\n",
        "    average_age_d = 0\n",
        "    Num_profile = len(LIST_d)\n",
        "    for n in range(Num_profile):\n",
        "        ##Max age\n",
        "        age = calculateage(LIST_d[n]['birthdate'])\n",
        "        oldest_person_age_d = max(oldest_person_age_d, age)\n",
        "        ##average age\n",
        "        age = calculateage(LIST_d[n]['birthdate'])\n",
        "        average_age_d = (average_age_d * n + age) / (n + 1)\n",
        "        ##mean_current_location\n",
        "        mean_current_location_d = Decimal(\n",
        "            (mean_current_location_d[0] * n + LIST_d[n]['current_location'][0]) / (n + 1)), Decimal(\n",
        "            (mean_current_location_d[1] * n + LIST_d[n]['current_location'][1]) / (n + 1))\n",
        "        ###Max Blood group\n",
        "        blood_group_count_d[LIST_d[n]['blood_group']] = blood_group_count_d[LIST_d[n]['blood_group']] + 1\n",
        "    largest_blood_type_d = (max(blood_group_count_d.items(), key=operator.itemgetter(1))[0])\n",
        "    return average_age_d, oldest_person_age_d, mean_current_location_d, largest_blood_type_d"
      ],
      "execution_count": 5,
      "outputs": []
    },
    {
      "cell_type": "code",
      "metadata": {
        "id": "FQ1vLQG4BpBn"
      },
      "source": [
        "Num_profile=10\n",
        "Num_run=1"
      ],
      "execution_count": 6,
      "outputs": []
    },
    {
      "cell_type": "code",
      "metadata": {
        "id": "JfDftlUG1jgf"
      },
      "source": [
        "LIST_tuple,LIST_dict=function_profile_creation(Num_profile)\n"
      ],
      "execution_count": 7,
      "outputs": []
    },
    {
      "cell_type": "markdown",
      "metadata": {
        "id": "5rXEpOEAa8lm"
      },
      "source": [
        "Below calculation is for Named Tuple"
      ]
    },
    {
      "cell_type": "code",
      "metadata": {
        "id": "s01llBpyBY7W",
        "outputId": "97c6fcaa-ad9a-4204-e638-c6bc919bc204",
        "colab": {
          "base_uri": "https://localhost:8080/",
          "height": 105
        }
      },
      "source": [
        "start1 = time.perf_counter()\n",
        "for n in range(Num_run):    \n",
        "    average_age,oldest_person_age,mean_current_location,largest_blood_type=function_profile_data_tuple_process(LIST_tuple)\n",
        "end1 = time.perf_counter()\n",
        "delta1 = (end1-start1)/Num_run\n",
        "print(f\"Average age of list is {average_age:0.2f}\")\n",
        "print(f\"Age of oldest persion is {oldest_person_age} in yrs\")\n",
        "print(f\"Mean average location is {mean_current_location}\")\n",
        "print(f\"Largest blood group type is {largest_blood_type}\")\n",
        "print(f\"Average run Time  is {delta1}\")"
      ],
      "execution_count": 8,
      "outputs": [
        {
          "output_type": "stream",
          "text": [
            "Average age of list is 62.90\n",
            "Age of oldest persion is 106 in yrs\n",
            "Mean average location is (Decimal('6.9057139'), Decimal('-11.9893673'))\n",
            "Largest blood group type is AB-\n",
            "Average run Time  is 0.0006622069995501079\n"
          ],
          "name": "stdout"
        }
      ]
    },
    {
      "cell_type": "markdown",
      "metadata": {
        "id": "oyi-p5qL4U1w"
      },
      "source": [
        "**Below calculation is for Dictionary**"
      ]
    },
    {
      "cell_type": "code",
      "metadata": {
        "id": "ggxlPcmy4Ujf",
        "outputId": "ec9143af-bfc8-4511-bd0a-6382f22456a7",
        "colab": {
          "base_uri": "https://localhost:8080/",
          "height": 105
        }
      },
      "source": [
        "start2 = time.perf_counter()\n",
        "for n in range(Num_run):\n",
        "    average_age_d,oldest_person_age_d,mean_current_location_d,largest_blood_type_d=function_profile_data_dict_process(LIST_dict)\n",
        "end2 = time.perf_counter()\n",
        "delta2 = (end2-start2)/Num_run\n",
        "print(f\"Average age of list is {average_age_d:0.2f}\")\n",
        "print(f\"Age of oldest persion is {oldest_person_age_d} in yrs\")\n",
        "print(f\"Mean average location is {mean_current_location_d}\")\n",
        "print(f\"Largest blood group type is {largest_blood_type_d}\")\n",
        "print(f\"Average Time Taken  is {delta2}\")"
      ],
      "execution_count": 9,
      "outputs": [
        {
          "output_type": "stream",
          "text": [
            "Average age of list is 62.90\n",
            "Age of oldest persion is 106 in yrs\n",
            "Mean average location is (Decimal('6.905713900000000000000000002'), Decimal('-11.9893673000000000000000000'))\n",
            "Largest blood group type is AB-\n",
            "Average Time Taken  is 0.0002619909992063185\n"
          ],
          "name": "stdout"
        }
      ]
    },
    {
      "cell_type": "code",
      "metadata": {
        "id": "Lowq7Khbmrxs",
        "outputId": "6e686db6-d1eb-43f1-d845-1dc8f454814b",
        "colab": {
          "base_uri": "https://localhost:8080/",
          "height": 123
        }
      },
      "source": [
        "print(isclose(average_age,average_age_d))\n",
        "print(oldest_person_age==oldest_person_age_d)\n",
        "print(isclose(mean_current_location[0],mean_current_location_d[0]))\n",
        "print(isclose(mean_current_location[1],mean_current_location_d[1]))\n",
        "print(largest_blood_type==largest_blood_type_d)\n",
        "print(f\"Named tuple is faster than dictionary by  {((delta2/delta1-1)*100):0.2f}% \")"
      ],
      "execution_count": 10,
      "outputs": [
        {
          "output_type": "stream",
          "text": [
            "True\n",
            "True\n",
            "True\n",
            "True\n",
            "True\n",
            "Named tuple is faster than dictionary by  -60.44% \n"
          ],
          "name": "stdout"
        }
      ]
    },
    {
      "cell_type": "markdown",
      "metadata": {
        "id": "Q5z0feojIf_e"
      },
      "source": [
        "***Fake Stock Exchange***"
      ]
    },
    {
      "cell_type": "code",
      "metadata": {
        "id": "c6cFtI98IrTR"
      },
      "source": [
        "Stock_weight_norm=namedtuple('Stock_weight_norm', ('name','nw' ))\n",
        "Stock_weight_norm.__doc__ = 'Stock Weight Details for Day trade'\n",
        "Stock_weight_norm.name.__doc__ = 'Name of Stock'\n",
        "Stock_weight_norm.nw.__doc__ = 'Normilized weight of Stock that day'\n",
        "\n",
        "class Stock(namedtuple('Stock', ('name', 'symbol','open', 'high', 'close','low','weight' ))):\n",
        "    \n",
        "    @classmethod\n",
        "    def normilized_weight(cls,stocks) -> \"returns normalized values for \":\n",
        "        'This class method calculates normalized weights for given set of weights '         \n",
        "        if not all(isinstance(stock, cls) for stock in stocks):\n",
        "            raise ValueError('All items in sequence must be of type {}'.format(cls.__name__))\n",
        "        Total_weight=sum(stock[6] for stock in stocks) \n",
        "        normilized_weights=[Stock_weight_norm(stock.name,(stock.weight/Total_weight)) for stock in stocks]        \n",
        "        return normilized_weights\n",
        "\n",
        "    @classmethod\n",
        "    def stock_ex_value(cls,stocks) -> \"returns normalized values for \":\n",
        "        'This class method calculates normalized weights for given set of weights '         \n",
        "        if not all(isinstance(stock, cls) for stock in stocks):\n",
        "            raise ValueError('All items in sequence must be of type {}'.format(cls.__name__))\n",
        "        normilized_weights=cls.normilized_weight(stocks)\n",
        "        Exch_open=sum(s.open*norw.nw if s.name==norw.name else \"error\" for s,norw in zip(stocks,normilized_weights))\n",
        "        Exch_high=sum(s.high*norw.nw if s.name==norw.name else \"error\"for s,norw in zip(stocks,normilized_weights))\n",
        "        Exch_close=sum(s.close*norw.nw if s.name==norw.name else \"error\"for s,norw in zip(stocks,normilized_weights))\n",
        "        Exch_low=sum(s.low*norw.nw if s.name==norw.name else \"error\"for s,norw in zip(stocks,normilized_weights))        \n",
        "        return Exch_open,Exch_high,Exch_close,Exch_low\n",
        "\n",
        "Stock.__doc__ = 'Stock Detail for Day trade'\n",
        "Stock.name.__doc__ = 'Name of Stock'\n",
        "Stock.symbol.__doc__ = 'symbol of Stock'\n",
        "Stock.open.__doc__ = 'Opening Value of Stock that day'\n",
        "Stock.high.__doc__ = 'highest Value of Stock that day'\n",
        "Stock.close.__doc__ = 'closing highest Value of Stock that day'\n",
        "Stock.low.__doc__ = 'closing lowest Value of Stock that day'\n",
        "Stock.weight.__doc__ = 'weight Stock that day'"
      ],
      "execution_count": 11,
      "outputs": []
    },
    {
      "cell_type": "code",
      "metadata": {
        "id": "NIZrF4Og6Jgo"
      },
      "source": [
        ""
      ],
      "execution_count": 11,
      "outputs": []
    },
    {
      "cell_type": "code",
      "metadata": {
        "id": "xvwHzKfUZZYM",
        "outputId": "bede981e-37fb-4b07-d1e0-01cd602dd893",
        "colab": {
          "base_uri": "https://localhost:8080/",
          "height": 1000
        }
      },
      "source": [
        "import random\n",
        "from random  import uniform\n",
        "from random import randint\n",
        "from prettytable import PrettyTable\n",
        "stock_count=100\n",
        "\n",
        "\n",
        "def function_fstock_creation(count: \"Number of stock to be created using faker\"):\n",
        "    \"Returns  profile stored in named tuple in list for user defined count\"\n",
        "    Stock_list=[]\n",
        "    Stock_list_dict=[]\n",
        "    for n in range(stock_count):    \n",
        "        name=fake.company()\n",
        "        symbol=name[:3]\n",
        "        low=uniform(100,5000)\n",
        "        high=uniform(low,5000)    \n",
        "        open=uniform(low,high)    \n",
        "        close=uniform(low,high) \n",
        "        weight=uniform(0.8,1.2)    \n",
        "        Stock_list.append(Stock(name,symbol,open,high,close,low,weight))  \n",
        "        Stock_list_dict.append({\"name\": name,\"symbol\" : symbol,\"open\":open,\"high\":high,\"close\":close,\"low\":low,\"weight\":weight})  \n",
        "    return Stock_list,Stock_list_dict\n",
        "\n",
        "\n",
        "Stock_100,Stock_list_dic=function_fstock_creation(100)\n",
        "    \n",
        "\n",
        "nw_tab=Stock.normilized_weight(Stock_100)\n",
        "Exch_open,Exch_high,Exch_close,Exch_low=Stock.stock_ex_value(Stock_100)\n",
        "\n",
        "\n",
        "P_Table=PrettyTable(['name', 'symbol','open', 'high', 'close','low','weight',\"Nor_Weight\",\"c_open\",\"c_high\",\"c_close\",\"c_low\"])       \n",
        "\n",
        "Exch_open1,Exch_high1,Exch_close1,Exch_low1=0,0,0,0\n",
        "\n",
        "for n in range(stock_count):\n",
        "    P_Table.add_row([Stock_100[n][0],Stock_100[n][1],Stock_100[n][2],round(Stock_100[n][3],2),round(Stock_100[n][4],2),round(Stock_100[n][5],2),round(Stock_100[n][6],2),\n",
        "                    round(nw_tab[n][1],2),round(Stock_100[n][2]*nw_tab[n][1],2),round(Stock_100[n][3]*nw_tab[n][1],2),\n",
        "                    round(Stock_100[n][4]*nw_tab[n][1],2),round(Stock_100[n][5]*nw_tab[n][1],2)])\n",
        "    Exch_open1+=Stock_100[n][2]*nw_tab[n][1]\n",
        "    Exch_high1+=Stock_100[n][3]*nw_tab[n][1]\n",
        "    Exch_close1+=Stock_100[n][4]*nw_tab[n][1]\n",
        "    Exch_low1+=Stock_100[n][5]*nw_tab[n][1]\n",
        "\n",
        "P_Table.add_row([\"-\",\"-\",\"-\",\"-\",\"-\",\"-\",\"-\",\"Total=\",round(Exch_open,3),round(Exch_high,3),round(Exch_close,3),round(Exch_low,3)])\n",
        "\n",
        "\n",
        "\n",
        "\n",
        "print(\"Stock Markert Day stats\") \n",
        "print(P_Table)\n",
        "\n",
        "print(f\"Test-{isclose(Exch_open,Exch_open1)},{isclose(Exch_high,Exch_high1)},{isclose(Exch_close,Exch_close1)},{isclose(Exch_low,Exch_low1)}\")\n",
        "\n",
        "\n"
      ],
      "execution_count": 12,
      "outputs": [
        {
          "output_type": "stream",
          "text": [
            "Stock Markert Day stats\n",
            "+------------------------------+--------+--------------------+---------+---------+---------+--------+------------+----------+----------+----------+---------+\n",
            "|             name             | symbol |        open        |   high  |  close  |   low   | weight | Nor_Weight |  c_open  |  c_high  | c_close  |  c_low  |\n",
            "+------------------------------+--------+--------------------+---------+---------+---------+--------+------------+----------+----------+----------+---------+\n",
            "| Lyons, Hernandez and Stuart  |  Lyo   | 4616.572248896573  | 4872.19 | 4846.69 | 4565.86 |  0.84  |    0.01    |  39.66   |  41.85   |  41.63   |  39.22  |\n",
            "|   Lewis, Montoya and Roth    |  Lew   | 1067.5960256232731 | 2165.37 | 1443.46 |  501.79 |  1.0   |    0.01    |  10.87   |  22.04   |  14.69   |   5.11  |\n",
            "|   Chen, Brown and Elliott    |  Che   | 1184.8157585684025 | 2639.36 | 1827.45 | 1132.63 |  0.98  |    0.01    |  11.83   |  26.36   |  18.25   |  11.31  |\n",
            "|        Jordan-Cordova        |  Jor   | 1707.800849869622  | 3991.08 | 1809.55 | 1307.69 |  1.1   |    0.01    |  19.25   |  44.99   |   20.4   |  14.74  |\n",
            "|         Cole-Guzman          |  Col   |  947.808278168693  | 1812.64 |  470.6  |  218.03 |  1.13  |    0.01    |  10.99   |  21.03   |   5.46   |   2.53  |\n",
            "| Fitzgerald, Brown and Barnes |  Fit   | 1719.9445280518173 | 2761.95 | 1884.16 |  1699.4 |  0.83  |    0.01    |  14.58   |  23.41   |  15.97   |  14.41  |\n",
            "|          Morris Ltd          |  Mor   | 3817.6283994396244 | 4285.61 | 3957.07 | 2921.33 |  0.98  |    0.01    |  38.36   |  43.07   |  39.76   |  29.36  |\n",
            "|           Cox-King           |  Cox   | 4930.955231196412  | 4938.21 | 4920.14 | 4908.43 |  0.83  |    0.01    |  41.79   |  41.85   |   41.7   |   41.6  |\n",
            "|    Sanchez, Wu and Smith     |  San   | 4360.9341982259775 | 4398.51 | 4331.27 | 4198.43 |  0.9   |    0.01    |  40.13   |  40.48   |  39.86   |  38.64  |\n",
            "|         Cooper Group         |  Coo   | 2908.7920913414036 | 3742.26 | 3423.04 |  117.28 |  0.87  |    0.01    |  25.75   |  33.13   |  30.31   |   1.04  |\n",
            "|         Howard Group         |  How   | 4101.865818064424  | 4131.07 | 4051.85 | 3912.71 |  0.91  |    0.01    |   38.0   |  38.27   |  37.54   |  36.25  |\n",
            "|       Cardenas-Robles        |  Car   | 3994.5730217846476 | 4003.97 | 4003.67 | 3989.09 |  1.0   |    0.01    |  40.67   |  40.77   |  40.76   |  40.62  |\n",
            "|    Smith, Hill and Hanson    |  Smi   | 3430.819067336669  | 4962.04 | 3694.44 | 3427.89 |  0.91  |    0.01    |  31.84   |  46.05   |  34.29   |  31.81  |\n",
            "|          Ramos LLC           |  Ram   | 4418.4471482684585 |  4731.3 | 4511.55 |  3807.7 |  1.0   |    0.01    |  45.06   |  48.25   |  46.01   |  38.83  |\n",
            "|         Garrison Inc         |  Gar   | 2010.8172069188163 | 4879.55 | 2445.83 |  808.14 |  1.17  |    0.01    |  23.99   |  58.21   |  29.18   |   9.64  |\n",
            "|    Lowe, Rivera and Cross    |  Low   | 3944.316635091321  | 4358.82 | 3184.08 | 2797.13 |  1.13  |    0.01    |  45.45   |  50.23   |  36.69   |  32.23  |\n",
            "|          Cross LLC           |  Cro   | 3121.2800328395715 | 4280.38 | 3279.59 | 3091.45 |  0.97  |    0.01    |  31.06   |  42.59   |  32.63   |  30.76  |\n",
            "|       Williams-Benton        |  Wil   |  3800.74963162754  | 4162.09 | 3726.16 | 3256.62 |  1.11  |    0.01    |  43.23   |  47.34   |  42.38   |  37.04  |\n",
            "|       Martin and Sons        |  Mar   | 4398.530962104943  | 4451.09 | 3948.79 | 3690.99 |  1.03  |    0.01    |  46.35   |   46.9   |  41.61   |  38.89  |\n",
            "|   Mason, Crawford and Reed   |  Mas   | 2413.8546976105877 | 4793.99 | 1144.99 |  119.82 |  1.1   |    0.01    |  27.13   |  53.88   |  12.87   |   1.35  |\n",
            "|  Smith, Guerrero and Smith   |  Smi   | 4744.530645196991  | 4761.41 | 4760.81 | 4388.56 |  0.87  |    0.01    |   42.1   |  42.25   |  42.25   |  38.95  |\n",
            "|         Cannon-Novak         |  Can   | 3523.1852850393293 | 3981.16 | 3821.45 | 3410.47 |  1.12  |    0.01    |  40.19   |  45.41   |  43.59   |   38.9  |\n",
            "|        Spears-Hebert         |  Spe   |  4481.50236814896  | 4767.65 | 4116.49 | 3973.18 |  1.09  |    0.01    |  50.13   |  53.33   |  46.04   |  44.44  |\n",
            "|    Barnes, Reid and Vega     |  Bar   | 3557.816534464445  | 4366.79 | 3457.11 | 2037.36 |  0.88  |    0.01    |  32.05   |  39.34   |  31.14   |  18.35  |\n",
            "|          Young Ltd           |  You   |  4186.63419665051  | 4292.55 |  4190.3 | 4030.15 |  0.86  |    0.01    |  36.71   |  37.64   |  36.74   |  35.34  |\n",
            "|         Guerrero Inc         |  Gue   | 4536.891665426133  | 4758.49 | 4720.49 | 4464.77 |  0.81  |    0.01    |  37.55   |  39.38   |  39.07   |  36.95  |\n",
            "| Johnston, Johnson and Zuniga |  Joh   | 3658.9437307669646 | 4500.63 | 3726.74 | 3516.43 |  0.97  |    0.01    |   36.2   |  44.53   |  36.87   |  34.79  |\n",
            "|          Rice Group          |  Ric   | 2481.5490784115204 | 4207.94 | 2669.03 | 2050.92 |  1.0   |    0.01    |  25.34   |  42.97   |  27.26   |  20.94  |\n",
            "|         Smith-Torres         |  Smi   | 4934.352323375702  | 4978.38 | 4954.53 | 4907.72 |  1.08  |    0.01    |  54.65   |  55.14   |  54.88   |  54.36  |\n",
            "|       Russell and Sons       |  Rus   | 2152.960584015613  | 4613.44 | 3691.63 | 1392.81 |  0.89  |    0.01    |  19.59   |  41.97   |  33.58   |  12.67  |\n",
            "|  Sutton, Bolton and Mccarty  |  Sut   | 4877.834152019899  | 4982.06 | 4817.09 | 4503.24 |  0.89  |    0.01    |  44.48   |  45.43   |  43.93   |  41.07  |\n",
            "|        Ochoa-Anderson        |  Och   | 3129.668485016002  | 4107.88 | 2076.42 |  597.91 |  0.88  |    0.01    |  28.29   |  37.13   |  18.77   |   5.4   |\n",
            "|   Golden, Tucker and Ellis   |  Gol   |  2373.04127568306  | 3566.06 | 3148.67 | 1507.04 |  1.09  |    0.01    |  26.43   |  39.71   |  35.06   |  16.78  |\n",
            "|         Thomas-Perez         |  Tho   | 1843.1465002662783 | 3871.34 | 3001.86 | 1136.24 |  1.07  |    0.01    |  20.07   |  42.16   |  32.69   |  12.38  |\n",
            "| Gibson, Gonzalez and Taylor  |  Gib   | 4962.053078435085  | 4972.76 | 4945.27 | 4944.03 |  0.97  |    0.01    |  49.42   |  49.53   |  49.25   |  49.24  |\n",
            "|         Peterson PLC         |  Pet   | 4184.477425631141  | 4468.64 |  3735.0 | 3617.79 |  0.94  |    0.01    |  40.13   |  42.86   |  35.82   |   34.7  |\n",
            "|   Malone, Shah and Harris    |  Mal   | 3801.9173875158685 | 4142.68 |  3891.8 | 3680.95 |  1.09  |    0.01    |  42.28   |  46.07   |  43.28   |  40.93  |\n",
            "|          Prince PLC          |  Pri   | 3478.098942777993  | 3965.75 | 3786.01 | 3326.73 |  0.89  |    0.01    |  31.82   |  36.28   |  34.64   |  30.43  |\n",
            "|         Walker Group         |  Wal   | 3103.2431788997674 | 4496.61 | 3373.25 | 2596.97 |  0.92  |    0.01    |  29.15   |  42.24   |  31.69   |   24.4  |\n",
            "|        Hernandez PLC         |  Her   | 4416.941601171173  | 4428.73 |  4419.9 | 4415.79 |  0.81  |    0.01    |  36.77   |  36.86   |  36.79   |  36.76  |\n",
            "|         Flores-Smith         |  Flo   | 3669.4461413266727 | 4536.06 | 4086.37 | 3635.28 |  1.06  |    0.01    |  39.67   |  49.04   |  44.18   |   39.3  |\n",
            "|        Smith and Sons        |  Smi   | 3124.649576904194  | 3386.98 | 1122.87 |  295.23 |  0.98  |    0.01    |  31.33   |  33.96   |  11.26   |   2.96  |\n",
            "|         Webster Ltd          |  Web   |  4896.50947114514  | 4953.52 | 4916.46 | 4739.68 |  0.91  |    0.01    |  45.31   |  45.84   |   45.5   |  43.86  |\n",
            "|        Rosario Group         |  Ros   | 2645.683390133824  |  3732.0 | 2478.71 | 2324.74 |  1.07  |    0.01    |   29.0   |  40.91   |  27.17   |  25.48  |\n",
            "|          James PLC           |  Jam   | 1892.1465143864068 | 2325.58 | 1958.38 | 1886.49 |  0.87  |    0.01    |  16.79   |  20.63   |  17.37   |  16.74  |\n",
            "|         Terry-Noble          |  Ter   | 4044.028735795913  | 4136.17 | 3877.85 | 3659.27 |  1.17  |    0.01    |  48.54   |  49.64   |  46.54   |  43.92  |\n",
            "|          Clark-Dyer          |  Cla   | 3287.355428447744  | 4339.29 | 1704.42 | 1463.89 |  0.89  |    0.01    |  30.06   |  39.68   |  15.59   |  13.39  |\n",
            "|         Rivera-Lucas         |  Riv   | 649.8729840940014  | 1346.16 |  311.54 |  302.55 |  1.11  |    0.01    |   7.36   |  15.24   |   3.53   |   3.43  |\n",
            "|   Wilson, Lee and Clayton    |  Wil   |  4546.34153345545  | 4821.44 | 4540.85 | 4439.21 |  1.15  |    0.01    |  53.32   |  56.54   |  53.25   |  52.06  |\n",
            "|          Gay-Curry           |  Gay   | 3375.237992355428  | 4614.34 | 4584.05 | 2308.38 |  1.18  |    0.01    |  40.86   |  55.86   |  55.49   |  27.94  |\n",
            "|         Davis-Porter         |  Dav   | 3872.2495067914433 | 4115.21 | 2301.45 |  993.77 |  0.81  |    0.01    |  31.96   |  33.96   |  18.99   |   8.2   |\n",
            "|         Hatfield Ltd         |  Hat   | 2917.507846881245  | 3029.52 | 2934.46 | 2793.08 |  0.9   |    0.01    |  26.92   |  27.96   |  27.08   |  25.78  |\n",
            "|        Thornton-Hardy        |  Tho   | 2608.3147483703124 | 4997.27 | 4436.29 | 1856.21 |  0.94  |    0.01    |  25.17   |  48.22   |  42.81   |  17.91  |\n",
            "|  Smith, Smith and Williams   |  Smi   | 2548.9130489568806 | 2583.74 | 2551.54 |  2544.6 |  1.04  |    0.01    |  27.08   |  27.45   |  27.11   |  27.03  |\n",
            "|          Pena-Curry          |  Pen   | 4890.793328518303  | 4916.04 | 4879.48 | 4860.39 |  1.14  |    0.01    |  56.77   |  57.07   |  56.64   |  56.42  |\n",
            "|          Fuller Inc          |  Ful   | 2396.0319675968894 | 4773.31 | 4079.82 | 1392.08 |  0.91  |    0.01    |  22.28   |  44.38   |  37.94   |  12.94  |\n",
            "|         Day-Delgado          |  Day   | 4221.7121165415965 | 4531.94 | 3699.41 | 2529.01 |  0.83  |    0.01    |  35.81   |  38.44   |  31.38   |  21.45  |\n",
            "|        Mcintyre-Neal         |  Mci   | 4170.944402040987  | 4229.74 |  4226.7 | 4130.39 |  0.96  |    0.01    |  41.12   |   41.7   |  41.67   |  40.72  |\n",
            "|        Ramirez-Keller        |  Ram   | 1284.040518773198  | 1662.13 | 1316.34 | 1094.02 |  1.16  |    0.01    |  15.16   |  19.63   |  15.54   |  12.92  |\n",
            "|        Armstrong-Rose        |  Arm   | 4709.004402128534  | 4815.39 | 4724.25 | 4238.62 |  1.12  |    0.01    |  53.94   |  55.16   |  54.11   |  48.55  |\n",
            "|         Parrish PLC          |  Par   | 3785.0061624028017 | 3791.39 | 2218.51 | 1750.19 |  1.01  |    0.01    |  39.04   |  39.11   |  22.88   |  18.05  |\n",
            "|       Miller-Harrison        |  Mil   | 3593.242517393163  | 3611.06 | 3590.12 | 3576.33 |  1.07  |    0.01    |  39.37   |  39.56   |  39.33   |  39.18  |\n",
            "|          Martin Inc          |  Mar   | 4513.496393551999  | 4578.63 | 4179.43 | 3167.83 |  1.09  |    0.01    |  50.47   |   51.2   |  46.74   |  35.42  |\n",
            "|         Byrd-Murphy          |  Byr   | 3534.8254675251933 | 3546.42 | 3221.98 | 2972.25 |  1.01  |    0.01    |  36.33   |  36.45   |  33.12   |  30.55  |\n",
            "| Daniels, Hebert and Russell  |  Dan   | 4585.435982189669  | 4614.66 |  4229.1 | 4223.35 |  0.86  |    0.01    |  40.51   |  40.77   |  37.37   |  37.32  |\n",
            "|          Zhang-Cruz          |  Zha   |  4957.7521058441   | 4958.92 | 4941.74 | 4912.39 |  1.09  |    0.01    |  55.06   |  55.07   |  54.88   |  54.56  |\n",
            "|   Ryan, Kelley and Wiggins   |  Rya   | 2310.1203893555626 | 4374.67 | 1290.31 |  909.55 |  0.86  |    0.01    |  20.41   |  38.64   |   11.4   |   8.03  |\n",
            "|          Lewis Ltd           |  Lew   | 1736.8802324410399 | 3902.15 |  2617.6 | 1115.15 |  1.04  |    0.01    |  18.38   |  41.29   |   27.7   |   11.8  |\n",
            "|         Patel Group          |  Pat   | 4938.716775275428  | 4987.89 | 4920.59 | 4907.73 |  0.83  |    0.01    |  42.09   |  42.51   |  41.94   |  41.83  |\n",
            "|         Moore Group          |  Moo   | 4526.800776776436  |  4763.2 | 4603.32 | 4023.52 |  1.12  |    0.01    |  51.92   |  54.63   |  52.79   |  46.14  |\n",
            "| Hoffman, Rodriguez and Lamb  |  Hof   | 3760.0674426609494 |  4230.0 | 3789.78 | 3578.43 |  0.99  |    0.01    |  38.24   |  43.02   |  38.54   |  36.39  |\n",
            "|          Smith PLC           |  Smi   | 2447.233179878922  | 3142.81 | 2557.05 | 2293.54 |  0.92  |    0.01    |   23.1   |  29.66   |  24.13   |  21.65  |\n",
            "|          Bryant LLC          |  Bry   | 411.3282117850496  |  474.33 |  267.91 |  216.91 |  0.83  |    0.01    |   3.49   |   4.02   |   2.27   |   1.84  |\n",
            "|         Foster Group         |  Fos   | 1716.1406796065567 | 3451.26 | 1962.42 |  1705.8 |  0.94  |    0.01    |  16.42   |  33.02   |  18.78   |  16.32  |\n",
            "|          Lynch PLC           |  Lyn   | 2546.351463850239  | 2620.36 | 2285.84 |  2245.8 |  0.8   |    0.01    |  20.95   |  21.56   |  18.81   |  18.48  |\n",
            "|        Sanchez-Smith         |  San   | 3538.8495407545242 | 3940.18 | 3161.28 |  3110.5 |  1.17  |    0.01    |  42.51   |  47.33   |  37.97   |  37.36  |\n",
            "|         Hudson-Jones         |  Hud   |  4686.80827151352  |  4800.7 | 4616.09 | 4409.74 |  0.81  |    0.01    |  38.74   |  39.68   |  38.16   |  36.45  |\n",
            "| Palmer, Johnson and Martinez |  Pal   |  3313.89338632563  | 3391.84 | 3312.99 | 3259.59 |  1.16  |    0.01    |  39.21   |  40.13   |   39.2   |  38.57  |\n",
            "| Wilcox, Stewart and Salazar  |  Wil   | 2265.8347556658573 | 3231.18 | 2029.39 | 1265.23 |  1.07  |    0.01    |  24.84   |  35.42   |  22.25   |  13.87  |\n",
            "|        Ortega-Mueller        |  Ort   | 3432.166342736062  | 4445.36 | 3104.06 | 3056.43 |  1.12  |    0.01    |  39.36   |  50.99   |   35.6   |  35.06  |\n",
            "|  White, Hubbard and Schultz  |  Whi   | 2295.7238656256486 | 2416.47 |  2152.3 | 2093.92 |  0.81  |    0.01    |  19.01   |  20.01   |  17.82   |  17.34  |\n",
            "|          Hansen PLC          |  Han   | 4524.049853929833  |  4770.4 | 4425.17 |  4167.3 |  0.89  |    0.01    |  41.29   |  43.54   |  40.39   |  38.04  |\n",
            "|         Reed-Douglas         |  Ree   | 3950.616287528949  | 4729.76 | 4299.63 | 3621.21 |  1.09  |    0.01    |  43.94   |  52.61   |  47.82   |  40.28  |\n",
            "|        Clark-Phillips        |  Cla   | 2659.9087509140113 | 2777.41 | 2666.18 | 2545.31 |  0.89  |    0.01    |  24.22   |  25.29   |  24.28   |  23.18  |\n",
            "| Mcgrath, Harris and Sherman  |  Mcg   | 1435.5854906669895 | 2352.76 | 1863.06 |  990.46 |  0.81  |    0.01    |  11.88   |  19.48   |  15.42   |   8.2   |\n",
            "|       Reynolds-Ferrell       |  Rey   | 3367.894032125244  | 3584.22 | 3257.83 |  3199.5 |  0.84  |    0.01    |  28.77   |  30.61   |  27.83   |  27.33  |\n",
            "|   Smith, King and Hawkins    |  Smi   | 2116.037088825554  |  3082.2 | 2294.98 | 1197.12 |  1.17  |    0.01    |  25.27   |  36.81   |  27.41   |   14.3  |\n",
            "|          Torres PLC          |  Tor   | 1355.3246851278823 | 1698.32 |  1603.0 |  552.55 |  0.89  |    0.01    |  12.32   |  15.43   |  14.57   |   5.02  |\n",
            "|          Jones-Day           |  Jon   | 3099.2726015654043 | 4091.45 | 2855.38 | 2637.17 |  1.01  |    0.01    |  31.95   |  42.17   |  29.43   |  27.18  |\n",
            "|          Austin Inc          |  Aus   | 4311.6313881220385 | 4385.78 | 4359.52 | 4288.47 |  0.98  |    0.01    |  43.16   |  43.91   |  43.64   |  42.93  |\n",
            "|         Kelley Group         |  Kel   | 247.13780478095728 | 4724.52 | 2560.64 |  201.01 |  0.87  |    0.01    |   2.19   |  41.91   |  22.71   |   1.78  |\n",
            "|   Summers, Bennett and Fox   |  Sum   | 1056.2841853730265 | 3540.91 |  289.31 |  214.76 |  1.01  |    0.01    |  10.95   |   36.7   |   3.0    |   2.23  |\n",
            "|   Evans, Bryant and Allen    |  Eva   | 2748.6299661515477 | 2961.04 | 2892.22 | 2619.67 |  1.19  |    0.01    |  33.31   |  35.88   |  35.05   |  31.75  |\n",
            "|       Martinez-Fowler        |  Mar   | 3536.4182873114714 |  3997.1 | 3717.47 | 3340.32 |  1.0   |    0.01    |   36.0   |  40.69   |  37.84   |   34.0  |\n",
            "|       Sandoval-Elliott       |  San   | 4407.540852553816  | 4859.78 | 4345.94 | 3618.27 |  0.82  |    0.01    |  36.81   |  40.59   |   36.3   |  30.22  |\n",
            "|       Sawyer-Thompson        |  Saw   | 2865.8060466390393 | 3025.33 | 2766.01 | 2627.13 |  1.0   |    0.01    |  29.39   |  31.03   |  28.37   |  26.95  |\n",
            "|       Erickson-Farmer        |  Eri   | 4134.375550885098  | 4864.95 | 3233.58 | 2613.68 |  0.88  |    0.01    |  37.38   |  43.98   |  29.23   |  23.63  |\n",
            "|        Oliver-Harvey         |  Oli   | 2202.9840609525254 | 4967.95 | 3572.89 | 1778.97 |  0.88  |    0.01    |  19.81   |  44.68   |  32.13   |   16.0  |\n",
            "|      Mckenzie and Sons       |  Mck   | 1238.1631285989988 | 2198.34 |  1920.7 | 1159.92 |  1.03  |    0.01    |  13.06   |  23.19   |  20.26   |  12.23  |\n",
            "|          Singh-King          |  Sin   | 1748.9782412684976 | 2159.63 | 2156.45 | 1456.52 |  0.86  |    0.01    |  15.38   |  18.99   |  18.96   |  12.81  |\n",
            "|              -               |   -    |         -          |    -    |    -    |    -    |   -    |   Total=   | 3224.318 | 3943.817 | 3244.808 | 2678.41 |\n",
            "+------------------------------+--------+--------------------+---------+---------+---------+--------+------------+----------+----------+----------+---------+\n",
            "Test-True,True,True,True\n"
          ],
          "name": "stdout"
        }
      ]
    },
    {
      "cell_type": "code",
      "metadata": {
        "id": "9ZRjuUuQgM0C"
      },
      "source": [
        ""
      ],
      "execution_count": 12,
      "outputs": []
    }
  ]
}